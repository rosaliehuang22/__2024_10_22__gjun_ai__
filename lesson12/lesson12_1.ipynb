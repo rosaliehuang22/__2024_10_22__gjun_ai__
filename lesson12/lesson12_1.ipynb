{
 "cells": [
  {
   "cell_type": "code",
   "execution_count": null,
   "metadata": {},
   "outputs": [
    {
     "data": {
      "text/plain": [
       "'請輸入手機號碼xxxx-xxx-xxx'"
      ]
     },
     "execution_count": 2,
     "metadata": {},
     "output_type": "execute_result"
    }
   ],
   "source": [
    "#單行字串\n",
    "'請輸入手機號碼xxxx-xxx-xxx'\n",
    "#換行要用 \\"
   ]
  },
  {
   "cell_type": "code",
   "execution_count": 2,
   "metadata": {},
   "outputs": [
    {
     "data": {
      "text/plain": [
       "\"Gifts for The Chill Manifesting Girl 🏡\\nYou know the one—the friend who always has that calm, grounded energy, yet somehow everything she wants just flows into her life? Maybe it’s your sister who’s always talking about journaling her next big win or your coworker who swears by her manifestation playlist. Or maybe it's you (because who better to spoil?).\\nWould you like me to brainstorm specific items to match this vibe?\""
      ]
     },
     "execution_count": 2,
     "metadata": {},
     "output_type": "execute_result"
    }
   ],
   "source": [
    "#多行文字\n",
    "'''Gifts for The Chill Manifesting Girl 🏡\n",
    "You know the one—the friend who always has that calm, grounded energy, yet somehow everything she wants just flows into her life? Maybe it’s your sister who’s always talking about journaling her next big win or your coworker who swears by her manifestation playlist. Or maybe it's you (because who better to spoil?).\n",
    "Would you like me to brainstorm specific items to match this vibe?'''"
   ]
  },
  {
   "cell_type": "code",
   "execution_count": null,
   "metadata": {},
   "outputs": [
    {
     "data": {
      "text/plain": [
       "str"
      ]
     },
     "execution_count": 3,
     "metadata": {},
     "output_type": "execute_result"
    }
   ],
   "source": [
    "#字串是str實體\n",
    "letters = '請輸入手機號碼xxxx-xxx-xxx'\n",
    "type(letters)"
   ]
  },
  {
   "cell_type": "code",
   "execution_count": null,
   "metadata": {},
   "outputs": [
    {
     "data": {
      "text/plain": [
       "'ABC'"
      ]
     },
     "execution_count": 5,
     "metadata": {},
     "output_type": "execute_result"
    }
   ],
   "source": [
    "#實體方法\n",
    "'abc'.upper()"
   ]
  },
  {
   "cell_type": "code",
   "execution_count": 9,
   "metadata": {},
   "outputs": [
    {
     "name": "stdout",
     "output_type": "stream",
     "text": [
      "e\n",
      "h\n"
     ]
    }
   ],
   "source": [
    "#字串和list->sequence資料\n",
    "#subscript, 實體名稱[index]\n",
    "letters = 'abcdefgh'\n",
    "print(letters[4])\n",
    "print(letters[-1])"
   ]
  },
  {
   "cell_type": "code",
   "execution_count": null,
   "metadata": {},
   "outputs": [
    {
     "name": "stdout",
     "output_type": "stream",
     "text": [
      "abcde\n",
      "abcde\n",
      "defgh\n"
     ]
    }
   ],
   "source": [
    "#subscript, 實體名稱[index:index]->slice\n",
    "letters = 'abcdefgh'\n",
    "#from index 0 to index 4\n",
    "print(letters[0:5])\n",
    "#first 5\n",
    "print(letters[:5])\n",
    "#last 5\n",
    "print(letters[-5:])\n",
    "\n"
   ]
  },
  {
   "cell_type": "code",
   "execution_count": 12,
   "metadata": {},
   "outputs": [
    {
     "data": {
      "text/plain": [
       "'您好： robert'"
      ]
     },
     "execution_count": 12,
     "metadata": {},
     "output_type": "execute_result"
    }
   ],
   "source": [
    "#字串format,字串插補\n",
    "name = ' robert'\n",
    "f'您好：{name}'"
   ]
  },
  {
   "cell_type": "code",
   "execution_count": null,
   "metadata": {},
   "outputs": [
    {
     "name": "stdout",
     "output_type": "stream",
     "text": [
      "robert\\n\\tHsu\n"
     ]
    }
   ],
   "source": [
    "#raw字串\n",
    "#'\\t' = tab\n",
    "#r = 告訴全部符號都是字串\n",
    "raw_words = r'robert\\n\\tHsu'\n",
    "print(raw_words)"
   ]
  }
 ],
 "metadata": {
  "kernelspec": {
   "display_name": "Python 3",
   "language": "python",
   "name": "python3"
  },
  "language_info": {
   "codemirror_mode": {
    "name": "ipython",
    "version": 3
   },
   "file_extension": ".py",
   "mimetype": "text/x-python",
   "name": "python",
   "nbconvert_exporter": "python",
   "pygments_lexer": "ipython3",
   "version": "3.10.15"
  }
 },
 "nbformat": 4,
 "nbformat_minor": 2
}
