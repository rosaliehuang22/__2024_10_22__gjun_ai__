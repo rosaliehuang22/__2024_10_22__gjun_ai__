{
 "cells": [
  {
   "cell_type": "code",
   "execution_count": 3,
   "metadata": {},
   "outputs": [
    {
     "ename": "NameError",
     "evalue": "name 'true' is not defined",
     "output_type": "error",
     "traceback": [
      "\u001b[0;31m---------------------------------------------------------------------------\u001b[0m",
      "\u001b[0;31mNameError\u001b[0m                                 Traceback (most recent call last)",
      "Cell \u001b[0;32mIn[3], line 34\u001b[0m\n\u001b[1;32m     31\u001b[0m         \u001b[38;5;28;01melse\u001b[39;00m:\n\u001b[1;32m     32\u001b[0m             \u001b[38;5;28mprint\u001b[39m(\u001b[38;5;124m\"\u001b[39m\u001b[38;5;124m超出範圍,請重新輸入\u001b[39m\u001b[38;5;124m\"\u001b[39m)\n\u001b[0;32m---> 34\u001b[0m \u001b[38;5;28;01mwhile\u001b[39;00m(\u001b[43mtrue\u001b[49m):\n\u001b[1;32m     35\u001b[0m     playGame()\n\u001b[1;32m     36\u001b[0m     \u001b[38;5;28minput\u001b[39m(\u001b[38;5;124m\"\u001b[39m\u001b[38;5;124m請問還要繼續嗎？y,n\u001b[39m\u001b[38;5;124m\"\u001b[39m)\n",
      "\u001b[0;31mNameError\u001b[0m: name 'true' is not defined"
     ]
    }
   ],
   "source": [
    "import random\n",
    "#減少邏輯思考\n",
    "def playGame()->None:\n",
    "    min = 1\n",
    "    max = 100\n",
    "    count = 0\n",
    "    target = random.randint(min, max)\n",
    "    print(\"===========猜數字遊戲===========\\n\")\n",
    "    while(True):\n",
    "        count += 1\n",
    "        try:\n",
    "            keyin = int(input(f\"猜數字範圍{min}~{max}:\"))\n",
    "        except Exception:\n",
    "            print(\"請重新輸入\")\n",
    "            continue\n",
    "        if keyin >= min and keyin <= max:\n",
    "            if(keyin == target):\n",
    "                print(f\"賓果!猜對了, 答案是:{target}\")\n",
    "                print(f\"您總共猜了{count}次\")\n",
    "                print(\"===============\")\n",
    "                break\n",
    "            elif keyin > target:\n",
    "                print(\"再小一點\")\n",
    "                max = keyin - 1            \n",
    "            elif keyin < target:\n",
    "                print(\"再大一點\")\n",
    "                min = keyin + 1\n",
    "            print(f\"您已經猜了{count}次\")\n",
    "            print(\"================\")\n",
    "\n",
    "        else:\n",
    "            print(\"超出範圍,請重新輸入\")\n",
    "\n",
    "while(true):\n",
    "    playGame()\n",
    "    input(\"請問還要繼續嗎？y,n\")\n",
    "    if answer.upper == 'n':\n",
    "        break\n",
    "\n",
    "print(\"應用程式結束\")"
   ]
  }
 ],
 "metadata": {
  "kernelspec": {
   "display_name": "Python 3",
   "language": "python",
   "name": "python3"
  },
  "language_info": {
   "codemirror_mode": {
    "name": "ipython",
    "version": 3
   },
   "file_extension": ".py",
   "mimetype": "text/x-python",
   "name": "python",
   "nbconvert_exporter": "python",
   "pygments_lexer": "ipython3",
   "version": "3.10.15"
  }
 },
 "nbformat": 4,
 "nbformat_minor": 2
}
