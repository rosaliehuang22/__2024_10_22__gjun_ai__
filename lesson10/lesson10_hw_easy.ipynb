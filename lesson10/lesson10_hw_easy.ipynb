{
 "cells": [
  {
   "cell_type": "code",
   "execution_count": 23,
   "metadata": {},
   "outputs": [
    {
     "name": "stdout",
     "output_type": "stream",
     "text": [
      "儲存成功!\n"
     ]
    }
   ],
   "source": [
    "import random\n",
    "import csv\n",
    "\n",
    "class BMI(): \n",
    "    def __init__(self,name,height,weight): \n",
    "        self.name = name\n",
    "        self.height = height\n",
    "        self.weight = weight\n",
    "\n",
    "    def get_bmi(self): #取得bmi\n",
    "        return round(self.weight / (self.height/100) ** 2,2)\n",
    "    \n",
    "    def get_status(self)->str:  #取得status\n",
    "        bmi = self.get_bmi()\n",
    "        if bmi >=35:\n",
    "            status = \"您的體重:重度肥胖\"\n",
    "        elif bmi >= 30:\n",
    "            status = \"您的體重:中度肥胖\"\n",
    "        elif bmi >= 27:\n",
    "            status = \"您的體重:輕度肥胖\"\n",
    "        elif bmi >= 24:\n",
    "            status = \"您的體重:過重\"\n",
    "        elif bmi >= 18.5:\n",
    "            status = \"您的體重:正常範圍\"\n",
    "        else:\n",
    "            status = \"您的體重:體重過輕\"\n",
    "        return status\n",
    "\n",
    "def get_name(nums:int=2): #抓取name.txt裡面的名字\n",
    "    with open('names.txt',mode='r',encoding='utf-8') as file:\n",
    "        all_names = file.read().split()\n",
    "    chosen_names = random.sample(all_names,k=nums)\n",
    "    return  chosen_names\n",
    "     \n",
    "def generate_bmi(chosen_names): \n",
    "    bmi_records = []\n",
    "    for name in chosen_names:\n",
    "        height = random.randint(140,190)\n",
    "        weight = random.randint(50,110)\n",
    "        student_STATUS = BMI(name, height, weight) #from class\n",
    "        bmi_records.append(student_STATUS)\n",
    "    return bmi_records\n",
    "\n",
    "def save_to_csv(bmi_records, filename = \"bmi_easy.csv\"):\n",
    "    # Open the file in write mode\n",
    "    with open(filename, \"w\", newline=\"\", encoding=\"utf-8\") as file:\n",
    "        writer = csv.writer(file)\n",
    "        writer.writerow([\"姓名\", \"身高\", \"體重\", \"BMI\", \"狀態\"])\n",
    "\n",
    "        for student in bmi_records:\n",
    "            writer.writerow([\n",
    "                student.name,\n",
    "                student.height,\n",
    "                student.weight,\n",
    "                student.get_bmi(),\n",
    "                student.get_status()\n",
    "            ])\n",
    "print(f\"儲存成功!\")\n",
    "\n",
    "\n",
    "if __name__ == '__main__':\n",
    "    nums = int(input('請輸入人數:'))\n",
    "    chosen_names = get_names(nums)\n",
    "    bmi_records = generate_bmi(chosen_names)\n",
    "\n",
    "    save_to_csv(bmi_records)"
   ]
  }
 ],
 "metadata": {
  "kernelspec": {
   "display_name": "Python 3",
   "language": "python",
   "name": "python3"
  },
  "language_info": {
   "codemirror_mode": {
    "name": "ipython",
    "version": 3
   },
   "file_extension": ".py",
   "mimetype": "text/x-python",
   "name": "python",
   "nbconvert_exporter": "python",
   "pygments_lexer": "ipython3",
   "version": "3.10.15"
  }
 },
 "nbformat": 4,
 "nbformat_minor": 2
}
