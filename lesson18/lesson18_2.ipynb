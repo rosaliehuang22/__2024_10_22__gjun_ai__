{
 "cells": [
  {
   "cell_type": "code",
   "execution_count": 6,
   "metadata": {},
   "outputs": [
    {
     "name": "stdout",
     "output_type": "stream",
     "text": [
      "['/workspaces/__2024_10_22__gjun_ai__/lesson18/stations/每日各站進出站人數2023.csv', '/workspaces/__2024_10_22__gjun_ai__/lesson18/stations/每日各站進出站人數2021.csv', '/workspaces/__2024_10_22__gjun_ai__/lesson18/stations/每日各站進出站人數2020.csv', '/workspaces/__2024_10_22__gjun_ai__/lesson18/stations/每日各站進出站人數20190423-20191231.csv', '/workspaces/__2024_10_22__gjun_ai__/lesson18/stations/每日各站進出站人數2022.csv']\n",
      "===============\n",
      "/workspaces/__2024_10_22__gjun_ai__/lesson18/stations/台鐵車站資訊.csv\n"
     ]
    }
   ],
   "source": [
    "import os\n",
    "def merge_data(station_paths:list[str],info:str):\n",
    "    print(station_paths)\n",
    "    print(\"===============\")\n",
    "    print(info)\n",
    "\n",
    "current_folder = os.getcwd()\n",
    "stations_folder = os.path.join(current_folder,'stations')\n",
    "csv_abs_files = []\n",
    "for filename in os.listdir(stations_folder):\n",
    "    if '每日各站' in filename:\n",
    "        csv_abs_files.append(os.path.join(stations_folder,filename))\n",
    "\n",
    "info_path = os.path.join(stations_folder,'台鐵車站資訊.csv')\n",
    "\n",
    "\n",
    "merge_data(csv_abs_files,info_path)"
   ]
  }
 ],
 "metadata": {
  "kernelspec": {
   "display_name": "Python 3",
   "language": "python",
   "name": "python3"
  },
  "language_info": {
   "codemirror_mode": {
    "name": "ipython",
    "version": 3
   },
   "file_extension": ".py",
   "mimetype": "text/x-python",
   "name": "python",
   "nbconvert_exporter": "python",
   "pygments_lexer": "ipython3",
   "version": "3.10.15"
  }
 },
 "nbformat": 4,
 "nbformat_minor": 2
}
