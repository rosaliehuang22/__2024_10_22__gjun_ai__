{
 "cells": [
  {
   "cell_type": "markdown",
   "metadata": {},
   "source": [
    "### 輸入:\n",
    "- 要檢查是否輸入格式錯誤\n",
    "- 請輸入整數,求所有因數:10\n",
    "\n",
    "### 輸出:\n",
    "10的因數是:1 2 5 10"
   ]
  },
  {
   "cell_type": "code",
   "execution_count": 18,
   "metadata": {},
   "outputs": [
    {
     "name": "stdout",
     "output_type": "stream",
     "text": [
      "10的因數是： 1 2 5 10 "
     ]
    }
   ],
   "source": [
    "try:\n",
    "    n = int(input('請輸入整數：'))\n",
    "\n",
    "    print(f\"{n}的因數是：\", end = ' ')\n",
    "    for i in range(1,n+1):\n",
    "        if (n%i == 0):\n",
    "            print(f'{i}', end = ' ')\n",
    "        else:\n",
    "            i += 1\n",
    "except SyntaxError:\n",
    "    print(\"格式錯誤，結束程式！\")\n",
    "except Exception:\n",
    "    print(\"不知名的錯誤，結束程式！\")"
   ]
  }
 ],
 "metadata": {
  "kernelspec": {
   "display_name": "Python 3",
   "language": "python",
   "name": "python3"
  },
  "language_info": {
   "codemirror_mode": {
    "name": "ipython",
    "version": 3
   },
   "file_extension": ".py",
   "mimetype": "text/x-python",
   "name": "python",
   "nbconvert_exporter": "python",
   "pygments_lexer": "ipython3",
   "version": "3.10.15"
  }
 },
 "nbformat": 4,
 "nbformat_minor": 2
}
