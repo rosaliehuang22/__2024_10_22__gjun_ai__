{
 "cells": [
  {
   "cell_type": "code",
   "execution_count": 4,
   "metadata": {},
   "outputs": [
    {
     "name": "stdout",
     "output_type": "stream",
     "text": [
      "姓名:蒙淑惠\n",
      "身高:152\n",
      "體重:74\n",
      "BMI:32.03\n",
      "狀態:您的體重:中度肥胖\n",
      "===========================\n",
      "姓名:林清英\n",
      "身高:167\n",
      "體重:64\n",
      "BMI:22.95\n",
      "狀態:您的體重:正常範圍\n",
      "===========================\n",
      "姓名:洪阿惠\n",
      "身高:161\n",
      "體重:70\n",
      "BMI:27.01\n",
      "狀態:您的體重:輕度肥胖\n",
      "===========================\n",
      "姓名:周家銘\n",
      "身高:183\n",
      "體重:63\n",
      "BMI:18.81\n",
      "狀態:您的體重:正常範圍\n",
      "===========================\n"
     ]
    }
   ],
   "source": [
    "import tools\n",
    "from tools import BMI\n",
    "\n",
    "if __name__ == '__main__':\n",
    "    nums = int(input('請輸入人數:'))\n",
    "    names:list[str] = tools.get_name(nums=nums)\n",
    "    students:list[BMI] = tools.generate_bmi(names=names)\n",
    "    for student in students:\n",
    "        print(f\"姓名:{student.name}\")\n",
    "        print(f\"身高:{student.height}\")\n",
    "        print(f\"體重:{student.weight}\")\n",
    "        print(f\"BMI:{student.get_bmi()}\")\n",
    "        print(f\"狀態:{student.get_status()}\")\n",
    "        print(\"===========================\")"
   ]
  }
 ],
 "metadata": {
  "kernelspec": {
   "display_name": "Python 3",
   "language": "python",
   "name": "python3"
  },
  "language_info": {
   "codemirror_mode": {
    "name": "ipython",
    "version": 3
   },
   "file_extension": ".py",
   "mimetype": "text/x-python",
   "name": "python",
   "nbconvert_exporter": "python",
   "pygments_lexer": "ipython3",
   "version": "3.10.15"
  }
 },
 "nbformat": 4,
 "nbformat_minor": 2
}
