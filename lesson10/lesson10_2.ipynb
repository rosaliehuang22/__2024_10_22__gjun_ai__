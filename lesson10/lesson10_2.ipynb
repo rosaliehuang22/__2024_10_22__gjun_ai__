{
 "cells": [
  {
   "cell_type": "markdown",
   "metadata": {},
   "source": [
    "#### Run \"pip install requests\" in the terminal\n",
    "to installs the requests library into your Python environmen"
   ]
  },
  {
   "cell_type": "code",
   "execution_count": null,
   "metadata": {},
   "outputs": [
    {
     "name": "stdout",
     "output_type": "stream",
     "text": [
      "下載成功\n"
     ]
    }
   ],
   "source": [
    "#requests = popular library for sending HTTP requests\n",
    "import requests\n",
    "#Response =  data type returned when you send an HTTP request\n",
    "from requests import Response\n",
    "\n",
    "url = 'https://data.moenv.gov.tw/api/v2/aqx_p_488?api_key=e8dd42e6-9b8b-43f8-991e-b3dee723a52d&limit=1000&sort=datacreationdate desc&format=CSV'\n",
    "\n",
    "# Send HTTP GET request\n",
    "r = requests.get(url)\n",
    "# Check if download was successful\n",
    "if r.ok:\n",
    "    print(\"下載成功\")"
   ]
  },
  {
   "cell_type": "code",
   "execution_count": 4,
   "metadata": {},
   "outputs": [],
   "source": [
    "#StringIO = A tool for processing strings as files in memory\n",
    "#Useful when the CSV data is not stored in an actual file but as a string of data\n",
    "from io import StringIO\n",
    "import csv\n",
    "\n",
    "#Convert data into a list of dictionaries\n",
    "#r.text = Get the response content\n",
    "data = r.text\n",
    "#StringIO(data) = creates a virtual file from the string\n",
    "file = StringIO(data)\n",
    "dictReader = csv.DictReader(file, fieldnames=['sitename','county','aqi','status','pm2.5','datacreationdate','longitude','latitude'],restkey='不要')\n",
    "next(dictReader)\n",
    "datas = list(dictReader)\n"
   ]
  },
  {
   "cell_type": "code",
   "execution_count": 5,
   "metadata": {},
   "outputs": [],
   "source": [
    "with open('aqi.csv','w',encoding='utf-8',newline='') as file:\n",
    "    dict_writer = csv.DictWriter(file,fieldnames=['sitename','county','aqi','status','pm2.5','datacreationdate','longitude','latitude'])\n",
    "    dict_writer.writeheader()\n",
    "    dict_writer.writerows(datas)"
   ]
  }
 ],
 "metadata": {
  "kernelspec": {
   "display_name": "Python 3",
   "language": "python",
   "name": "python3"
  },
  "language_info": {
   "codemirror_mode": {
    "name": "ipython",
    "version": 3
   },
   "file_extension": ".py",
   "mimetype": "text/x-python",
   "name": "python",
   "nbconvert_exporter": "python",
   "pygments_lexer": "ipython3",
   "version": "3.10.15"
  }
 },
 "nbformat": 4,
 "nbformat_minor": 2
}
