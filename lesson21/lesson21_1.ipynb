{
 "cells": [
  {
   "cell_type": "code",
   "execution_count": 2,
   "metadata": {},
   "outputs": [],
   "source": [
    "import os\n",
    "from dotenv import load_dotenv\n",
    "load_dotenv()\n",
    "key = os.environ['Gemini_API_KEY']"
   ]
  },
  {
   "cell_type": "code",
   "execution_count": 4,
   "metadata": {},
   "outputs": [
    {
     "name": "stdout",
     "output_type": "stream",
     "text": [
      "```html\n",
      "<!DOCTYPE html>\n",
      "<html lang=\"zh-TW\">\n",
      "<head>\n",
      "    <meta charset=\"UTF-8\">\n",
      "    <meta name=\"viewport\" content=\"width=device-width, initial-scale=1.0\">\n",
      "    <title>如何學習 Python</title>\n",
      "    <style>\n",
      "        body {\n",
      "            font-family: sans-serif;\n",
      "            line-height: 1.6;\n",
      "        }\n",
      "        h1, h2 {\n",
      "            color: #333;\n",
      "        }\n",
      "        ul {\n",
      "            list-style-type: disc;\n",
      "            margin-left: 20px;\n",
      "        }\n",
      "        a {\n",
      "            color: #007bff;\n",
      "            text-decoration: none;\n",
      "        }\n",
      "        a:hover {\n",
      "            text-decoration: underline;\n",
      "        }\n",
      "    </style>\n",
      "</head>\n",
      "<body>\n",
      "    <h1>如何學習 Python</h1>\n",
      "\n",
      "    <p>學習 Python 是一個循序漸進的過程，可以透過以下步驟有效率地學習：</p>\n",
      "\n",
      "    <h2>1. 奠定基礎：</h2>\n",
      "    <ul>\n",
      "        <li><strong>選擇學習資源：</strong>  網路上有許多免費的學習資源，例如：</li>\n",
      "        <ul>\n",
      "            <li><a href=\"https://www.w3schools.com/python/\">W3Schools Python 教程</a> (入門級，簡潔易懂)</li>\n",
      "            <li><a href=\"https://docs.python.org/3/tutorial/\">Python 官方教程</a> (較為全面，適合有一定程式基礎者)</li>\n",
      "            <li><a href=\"https://learnpython.org/\">LearnPython.org</a> (互動式教學，適合初學者)</li>\n",
      "            <li><a href=\"https://www.coursera.org/\">Coursera</a> (提供許多 Python 相關課程，部分需要付費)</li>\n",
      "            <li><a href=\"https://www.udemy.com/\">Udemy</a> (提供許多 Python 相關課程，部分需要付費)</li>\n",
      "        </ul>\n",
      "        <li><strong>安裝 Python：</strong> 從官方網站下載並安裝適合你作業系統的 Python 版本 (<a href=\"https://www.python.org/downloads/\">https://www.python.org/downloads/</a>)。</li>\n",
      "        <li><strong>選擇 IDE 或文字編輯器：</strong>  選擇一個適合編寫程式碼的環境，例如：PyCharm (專業級 IDE), VS Code (輕量級但功能強大的編輯器), Thonny (適合初學者)。</li>\n",
      "    </ul>\n",
      "\n",
      "    <h2>2. 逐步學習：</h2>\n",
      "    <ul>\n",
      "        <li><strong>循序漸進：</strong> 從基礎概念開始學習，例如變數、資料型態、運算子、條件判斷、迴圈等。</li>\n",
      "        <li><strong>練習程式碼：</strong>  每個概念都應該搭配練習，多寫程式碼才能真正理解和掌握。</li>\n",
      "        <li><strong>理解程式碼：</strong> 不要只複製貼上程式碼，要理解程式碼的邏輯和運作方式。</li>\n",
      "        <li><strong>除錯：</strong>  學習如何找到和解決程式碼錯誤，這是程式設計師必備的技能。</li>\n",
      "    </ul>\n",
      "\n",
      "    <h2>3. 進階學習：</h2>\n",
      "    <ul>\n",
      "        <li><strong>學習程式庫：</strong> Python 有許多強大的程式庫，例如 NumPy (數值計算), Pandas (資料分析), Matplotlib (資料視覺化),  Requests (網路請求), Django/Flask (網頁開發) 等。</li>\n",
      "        <li><strong>參與社群：</strong> 加入 Python 社群，向他人學習，並分享你的學習心得。</li>\n",
      "        <li><strong>實作專案：</strong>  選擇一些你感興趣的專案來實作，例如網頁爬蟲、遊戲開發、資料分析等。</li>\n",
      "        <li><strong>持續學習：</strong> Python 的發展日新月異，持續學習新的知識和技術非常重要。</li>\n",
      "    </ul>\n",
      "\n",
      "    <h2>4. 建議：</h2>\n",
      "    <ul>\n",
      "        <li><strong>設定學習目標：</strong> 設定明確的學習目標，例如學習完成某個課程或開發某個應用程式。</li>\n",
      "        <li><strong>保持耐心：</strong> 學習程式設計需要時間和耐心，不要輕易放棄。</li>\n",
      "        <li><strong>多問問題：</strong>  遇到問題不要害怕提問，可以向他人尋求幫助。</li>\n",
      "    </ul>\n",
      "\n",
      "\n",
      "</body>\n",
      "</html>\n",
      "```\n",
      "\n"
     ]
    }
   ],
   "source": [
    "import google.generativeai as genai\n",
    "\n",
    "genai.configure(api_key=key)\n",
    "model = genai.GenerativeModel(\"gemini-1.5-flash\") #最便宜的\n",
    "response = model.generate_content(\"如何學習python, 回應請輸出成html格式\")\n",
    "print(response.text)"
   ]
  }
 ],
 "metadata": {
  "kernelspec": {
   "display_name": "Python 3",
   "language": "python",
   "name": "python3"
  },
  "language_info": {
   "codemirror_mode": {
    "name": "ipython",
    "version": 3
   },
   "file_extension": ".py",
   "mimetype": "text/x-python",
   "name": "python",
   "nbconvert_exporter": "python",
   "pygments_lexer": "ipython3",
   "version": "3.10.15"
  }
 },
 "nbformat": 4,
 "nbformat_minor": 2
}
