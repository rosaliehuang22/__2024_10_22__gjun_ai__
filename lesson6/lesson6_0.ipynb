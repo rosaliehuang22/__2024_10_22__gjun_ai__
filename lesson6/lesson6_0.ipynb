{
 "cells": [
  {
   "cell_type": "code",
   "execution_count": null,
   "metadata": {},
   "outputs": [
    {
     "name": "stdout",
     "output_type": "stream",
     "text": [
      "10的因數有:1 2 5 10 "
     ]
    }
   ],
   "source": [
    "try:\n",
    "    x = int(input(\"請輸入整數\"))\n",
    "    print(f\"{x}的因數有:\", end='') # the 'end' part means that this print and the print below are on same line\n",
    "    for i in range(1,x+1):\n",
    "        if(x%i==0):\n",
    "            print(f\"{i}\",end=' ') # the 'end' part means that they are all on the same line\n",
    "except Exception:\n",
    "    print(\"輸入格式有錯\")"
   ]
  }
 ],
 "metadata": {
  "kernelspec": {
   "display_name": "Python 3",
   "language": "python",
   "name": "python3"
  },
  "language_info": {
   "codemirror_mode": {
    "name": "ipython",
    "version": 3
   },
   "file_extension": ".py",
   "mimetype": "text/x-python",
   "name": "python",
   "nbconvert_exporter": "python",
   "pygments_lexer": "ipython3",
   "version": "3.10.15"
  }
 },
 "nbformat": 4,
 "nbformat_minor": 2
}
