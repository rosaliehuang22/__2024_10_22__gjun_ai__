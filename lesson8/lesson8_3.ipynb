{
 "cells": [
  {
   "cell_type": "code",
   "execution_count": 3,
   "metadata": {},
   "outputs": [
    {
     "name": "stdout",
     "output_type": "stream",
     "text": [
      "陳文賢\n",
      "蕭淑華\n",
      "彭偉妃\n",
      "余丞苓\n",
      "白世宏\n",
      "林建宏\n",
      "吳明妮\n",
      "楊少亮\n",
      "張雅芬\n",
      "楊韻如\n"
     ]
    }
   ],
   "source": [
    "import random\n",
    "def get_names(nums:int=2)->list[str]:\n",
    "    with open('names.txt',encoding='utf-8',mode='r') as file:\n",
    "        names_str = file.read()\n",
    "    names:list[str] = names_str.split(sep='\\n')\n",
    "    names = random.choices(names,k=nums)\n",
    "    return names\n",
    "\n",
    "nums = int(input('請輸入學生數量(最多10位):'))\n",
    "student_names:list[str] = get_names(nums=nums)\n",
    "for name in student_names:\n",
    "    print(name)"
   ]
  },
  {
   "cell_type": "code",
   "execution_count": 15,
   "metadata": {},
   "outputs": [],
   "source": [
    "def generate_students(names:list[str])->list[dict]:\n",
    "    students:list[dict] = []\n",
    "    for name in names:\n",
    "        chinese = random.randint(50,100)\n",
    "        english = random.randint(50,100)\n",
    "        math = random.randint(50,100)\n",
    "        student = {'name':name, 'chinese':chinese, 'english':english,'math':math}\n",
    "        students.append(student)\n",
    "    return students"
   ]
  },
  {
   "cell_type": "code",
   "execution_count": 16,
   "metadata": {},
   "outputs": [
    {
     "data": {
      "text/plain": [
       "[{'name': '陳文賢', 'chinese': 86, 'english': 61, 'math': 63},\n",
       " {'name': '蕭淑華', 'chinese': 61, 'english': 77, 'math': 54},\n",
       " {'name': '彭偉妃', 'chinese': 59, 'english': 85, 'math': 80},\n",
       " {'name': '余丞苓', 'chinese': 94, 'english': 57, 'math': 61},\n",
       " {'name': '白世宏', 'chinese': 100, 'english': 91, 'math': 66},\n",
       " {'name': '林建宏', 'chinese': 94, 'english': 83, 'math': 90},\n",
       " {'name': '吳明妮', 'chinese': 91, 'english': 73, 'math': 81},\n",
       " {'name': '楊少亮', 'chinese': 53, 'english': 85, 'math': 50},\n",
       " {'name': '張雅芬', 'chinese': 94, 'english': 62, 'math': 96},\n",
       " {'name': '楊韻如', 'chinese': 53, 'english': 50, 'math': 64}]"
      ]
     },
     "execution_count": 16,
     "metadata": {},
     "output_type": "execute_result"
    }
   ],
   "source": [
    "students = generate_students(names=student_names)\n",
    "students"
   ]
  }
 ],
 "metadata": {
  "kernelspec": {
   "display_name": "Python 3",
   "language": "python",
   "name": "python3"
  },
  "language_info": {
   "codemirror_mode": {
    "name": "ipython",
    "version": 3
   },
   "file_extension": ".py",
   "mimetype": "text/x-python",
   "name": "python",
   "nbconvert_exporter": "python",
   "pygments_lexer": "ipython3",
   "version": "3.10.15"
  }
 },
 "nbformat": 4,
 "nbformat_minor": 2
}
