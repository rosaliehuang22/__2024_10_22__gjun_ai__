{
 "cells": [
  {
   "cell_type": "code",
   "execution_count": null,
   "metadata": {},
   "outputs": [],
   "source": [
    "import pandas as pd\n",
    "\n",
    "df = pd.read_csv('各鄉鎮市區人口密度.csv')\n",
    "df"
   ]
  },
  {
   "cell_type": "code",
   "execution_count": 3,
   "metadata": {},
   "outputs": [
    {
     "name": "stdout",
     "output_type": "stream",
     "text": [
      "<class 'pandas.core.frame.DataFrame'>\n",
      "RangeIndex: 376 entries, 0 to 375\n",
      "Data columns (total 5 columns):\n",
      " #   Column              Non-Null Count  Dtype \n",
      "---  ------              --------------  ----- \n",
      " 0   statistic_yyy       371 non-null    object\n",
      " 1   site_id             375 non-null    object\n",
      " 2   people_total        371 non-null    object\n",
      " 3   area                371 non-null    object\n",
      " 4   population_density  371 non-null    object\n",
      "dtypes: object(5)\n",
      "memory usage: 14.8+ KB\n"
     ]
    }
   ],
   "source": [
    "#使用info()檢查dataframe\n",
    "df.info()"
   ]
  },
  {
   "cell_type": "code",
   "execution_count": 6,
   "metadata": {},
   "outputs": [],
   "source": [
    "#實體方法rename()->改變欄位名稱\n",
    "df_rename = df.rename(columns={\n",
    "    'statistic_yyy':'統計年',\n",
    "    'site_id':'區域別',\n",
    "    'people_total':'年底人口數',\n",
    "    'area':'土地面積',\n",
    "    'population_density':'人口密度'\n",
    "})"
   ]
  },
  {
   "cell_type": "code",
   "execution_count": null,
   "metadata": {},
   "outputs": [],
   "source": [
    "#drop() = Remove rows or columns\n",
    "df_drop = df_rename.drop(index=0)\n",
    "df_drop"
   ]
  },
  {
   "cell_type": "code",
   "execution_count": null,
   "metadata": {},
   "outputs": [],
   "source": [
    "#dropna() = Remove missing values\n",
    "df_dropna = df_drop.dropna()\n",
    "df_dropna"
   ]
  },
  {
   "cell_type": "code",
   "execution_count": 10,
   "metadata": {},
   "outputs": [
    {
     "name": "stdout",
     "output_type": "stream",
     "text": [
      "<class 'pandas.core.frame.DataFrame'>\n",
      "Index: 370 entries, 1 to 370\n",
      "Data columns (total 5 columns):\n",
      " #   Column  Non-Null Count  Dtype \n",
      "---  ------  --------------  ----- \n",
      " 0   統計年     370 non-null    object\n",
      " 1   區域別     370 non-null    object\n",
      " 2   年底人口數   370 non-null    object\n",
      " 3   土地面積    370 non-null    object\n",
      " 4   人口密度    370 non-null    object\n",
      "dtypes: object(5)\n",
      "memory usage: 17.3+ KB\n"
     ]
    }
   ],
   "source": [
    "#使用replace() = Replace values with new values\n",
    "df_dropna[-5:].values # Lấy 5 dòng cuối và chuyển thành mảng NumPy\n",
    "df_replace = df_dropna.replace('… ',0) # Thay thế '… ' bằng 0\n",
    "df_replace.info()"
   ]
  },
  {
   "cell_type": "code",
   "execution_count": 13,
   "metadata": {},
   "outputs": [
    {
     "name": "stdout",
     "output_type": "stream",
     "text": [
      "<class 'pandas.core.frame.DataFrame'>\n",
      "Index: 370 entries, 1 to 370\n",
      "Data columns (total 5 columns):\n",
      " #   Column  Non-Null Count  Dtype  \n",
      "---  ------  --------------  -----  \n",
      " 0   統計年     370 non-null    object \n",
      " 1   區域別     370 non-null    object \n",
      " 2   年底人口數   370 non-null    int64  \n",
      " 3   土地面積    370 non-null    float64\n",
      " 4   人口密度    370 non-null    int64  \n",
      "dtypes: float64(1), int64(2), object(2)\n",
      "memory usage: 17.3+ KB\n"
     ]
    }
   ],
   "source": [
    "#astype() = Cast a pandas object to a specified dtype\n",
    "df_astype = df_replace.astype({\n",
    "    '年底人口數':'int',\n",
    "    '土地面積':'float',\n",
    "    '人口密度':'int'\n",
    "})\n",
    "df_astype.info()"
   ]
  },
  {
   "cell_type": "code",
   "execution_count": null,
   "metadata": {},
   "outputs": [],
   "source": [
    "#不會使用for in 迴圈,因為沒有取得索引編號\n",
    "for value in df_replace['年底人口數']:\n",
    "    print(value)"
   ]
  },
  {
   "cell_type": "code",
   "execution_count": 20,
   "metadata": {},
   "outputs": [],
   "source": [
    "#map()\n",
    "def to_int(value:str)->int:\n",
    "    try:\n",
    "        return int(value)\n",
    "    except:\n",
    "        return 0\n",
    "\n",
    "df_replace['年底人口數'] = df_replace['年底人口數'].map(to_int)"
   ]
  },
  {
   "cell_type": "code",
   "execution_count": 21,
   "metadata": {},
   "outputs": [
    {
     "name": "stdout",
     "output_type": "stream",
     "text": [
      "<class 'pandas.core.frame.DataFrame'>\n",
      "Index: 370 entries, 1 to 370\n",
      "Data columns (total 5 columns):\n",
      " #   Column  Non-Null Count  Dtype \n",
      "---  ------  --------------  ----- \n",
      " 0   統計年     370 non-null    object\n",
      " 1   區域別     370 non-null    object\n",
      " 2   年底人口數   370 non-null    int64 \n",
      " 3   土地面積    370 non-null    object\n",
      " 4   人口密度    370 non-null    object\n",
      "dtypes: int64(1), object(4)\n",
      "memory usage: 17.3+ KB\n"
     ]
    }
   ],
   "source": [
    "df_replace.info()\n"
   ]
  },
  {
   "cell_type": "code",
   "execution_count": 22,
   "metadata": {},
   "outputs": [
    {
     "name": "stdout",
     "output_type": "stream",
     "text": [
      "<class 'pandas.core.frame.DataFrame'>\n",
      "Index: 370 entries, 1 to 370\n",
      "Data columns (total 5 columns):\n",
      " #   Column  Non-Null Count  Dtype  \n",
      "---  ------  --------------  -----  \n",
      " 0   統計年     370 non-null    object \n",
      " 1   區域別     370 non-null    object \n",
      " 2   年底人口數   370 non-null    int64  \n",
      " 3   土地面積    370 non-null    float64\n",
      " 4   人口密度    370 non-null    int64  \n",
      "dtypes: float64(1), int64(2), object(2)\n",
      "memory usage: 17.3+ KB\n"
     ]
    }
   ],
   "source": [
    "df_astype = df_replace.astype({\n",
    "    '土地面積':'float',\n",
    "    '人口密度':'int'\n",
    "})\n",
    "df_astype.info()"
   ]
  },
  {
   "cell_type": "code",
   "execution_count": 27,
   "metadata": {},
   "outputs": [],
   "source": [
    "#儲存成為csv檔\n",
    "df_astype.to_csv('new各鄉鎮市區人口密度.csv',index=False)"
   ]
  },
  {
   "cell_type": "code",
   "execution_count": 24,
   "metadata": {},
   "outputs": [],
   "source": [
    "#儲存成為excel檔\n",
    "df_astype.to_excel('new各鄉鎮市區人口密度.xlsx')\n"
   ]
  },
  {
   "cell_type": "code",
   "execution_count": 25,
   "metadata": {},
   "outputs": [],
   "source": [
    "#儲存成為json檔\n",
    "df_astype.to_json('new各鄉鎮市區人口密度.json',\n",
    "            orient='records',\n",
    "            force_ascii=False)"
   ]
  }
 ],
 "metadata": {
  "kernelspec": {
   "display_name": "Python 3",
   "language": "python",
   "name": "python3"
  },
  "language_info": {
   "codemirror_mode": {
    "name": "ipython",
    "version": 3
   },
   "file_extension": ".py",
   "mimetype": "text/x-python",
   "name": "python",
   "nbconvert_exporter": "python",
   "pygments_lexer": "ipython3",
   "version": "3.10.15"
  }
 },
 "nbformat": 4,
 "nbformat_minor": 2
}
