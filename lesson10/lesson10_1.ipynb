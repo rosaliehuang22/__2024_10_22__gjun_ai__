{
 "cells": [
  {
   "cell_type": "code",
   "execution_count": null,
   "metadata": {},
   "outputs": [],
   "source": [
    "import csv\n",
    "with open('個股日成交資訊.csv','r',encoding='utf-8') as file:\n",
    "    csv_reader = csv.reader(file)\n",
    "    #Next() = skip the first line of the CSV file (normally column headers)\n",
    "    next(csv_reader)\n",
    "    #print(type(csv_reader))\n",
    "    for row in csv_reader:\n",
    "        print(row)"
   ]
  },
  {
   "cell_type": "markdown",
   "metadata": {},
   "source": [
    "### LIST vs. DICT\n",
    "\n",
    "#### List = Data stored in order. Each item in a list has an index number starting from 0. Use a list when you need to *keep data in a specific sequence*.\n",
    "my_list = [\"apple\", \"banana\", \"cherry\"]\n",
    "\n",
    "#### Dictionary = Data stored as key-value pairs. Each value is linked to a key. You access the value by the key, not by order.Use a dictionary when you want to *map values to specific keys*.\n",
    "my_dict = {\"name\": \"Alice\", \"age\": 25, \"city\": \"New York\"}\n",
    "\n",
    "#### Key Differences\n",
    "##### How data is stored:\n",
    "- List: sequence (order matters)\n",
    "- Dictionary: key-value pairs (order doesn’t matter much)\n",
    "##### How to access data:\n",
    "- List: by index (e.g., list[0])\n",
    "- Dictionary: by key (e.g., dict[\"key\"])\n",
    "##### When to use:\n",
    "- List: Simple data in sequence\n",
    "- Dictionary: Mapping data to a key\n",
    "\n",
    "Lists are great for simple data, while dictionaries are useful for structured data like a profile or a database. 😊\n",
    "\n",
    "\n"
   ]
  },
  {
   "cell_type": "code",
   "execution_count": null,
   "metadata": {},
   "outputs": [],
   "source": [
    "#請取csv和過濾資料\n",
    "import csv\n",
    "with open('個股日成交資訊.csv','r',encoding='utf-8') as file:\n",
    "    #DictReader = read AND convert each line into a dictionary\n",
    "    #['證券代號',...] = list of keys (col) you define\n",
    "    #restkey = if it has more keys than you defined, the rest ​​will be grouped into a list and stored in the key '不要'\n",
    "    csv_dictReader = csv.DictReader(file,['證券代號','證券名稱','開盤價','收盤價','漲跌價差','成交筆數'], restkey='不要')\n",
    "    next(csv_dictReader)\n",
    "    #list() = convert from dictionary into list\n",
    "    csv_list = list(csv_dictReader)\n",
    "\n",
    "for row in csv_list:\n",
    "    #Delete '不要' column in each row (each dictionary)\n",
    "    del row['不要']\n",
    "    print(row)\n"
   ]
  },
  {
   "cell_type": "code",
   "execution_count": null,
   "metadata": {},
   "outputs": [],
   "source": [
    "import csv\n",
    "with open('new.csv','w',encoding='utf-8',newline='') as file:\n",
    "    csv_writer = csv.DictWriter(file,['證券代號','證券名稱','開盤價','收盤價','漲跌價差','成交筆數'])\n",
    "    csv_writer.writeheader()\n",
    "    csv_writer.writerows(csv_list)"
   ]
  }
 ],
 "metadata": {
  "kernelspec": {
   "display_name": "Python 3",
   "language": "python",
   "name": "python3"
  },
  "language_info": {
   "codemirror_mode": {
    "name": "ipython",
    "version": 3
   },
   "file_extension": ".py",
   "mimetype": "text/x-python",
   "name": "python",
   "nbconvert_exporter": "python",
   "pygments_lexer": "ipython3",
   "version": "3.10.15"
  }
 },
 "nbformat": 4,
 "nbformat_minor": 2
}
