{
 "cells": [
  {
   "cell_type": "markdown",
   "metadata": {},
   "source": [
    "#### 公斤和磅的轉換\n",
    "- 1公斤=2.20426磅\n",
    "- kilograms, pounds"
   ]
  },
  {
   "cell_type": "code",
   "execution_count": 1,
   "metadata": {},
   "outputs": [
    {
     "name": "stdout",
     "output_type": "stream",
     "text": [
      "45.0 公斤 = 99.19 磅\n"
     ]
    }
   ],
   "source": [
    "# 公斤轉換為磅\n",
    "KILOGRAM_TO_POUND = 2.20426\n",
    "kilograms = float(input(\"請輸入公斤：\"))\n",
    "pounds =  KILOGRAM_TO_POUND * kilograms\n",
    "print(f'{kilograms} 公斤 = {pounds:.2f} 磅')"
   ]
  },
  {
   "cell_type": "code",
   "execution_count": 2,
   "metadata": {},
   "outputs": [
    {
     "name": "stdout",
     "output_type": "stream",
     "text": [
      "99.19 磅 = 45.00 公斤\n"
     ]
    }
   ],
   "source": [
    "# 磅轉換為公斤\n",
    "pounds = float(input(\"請輸入磅：\"))\n",
    "kilograms = pounds / KILOGRAM_TO_POUND\n",
    "print(f'{pounds} 磅 = {kilograms:.2f} 公斤')"
   ]
  }
 ],
 "metadata": {
  "kernelspec": {
   "display_name": "Python 3",
   "language": "python",
   "name": "python3"
  },
  "language_info": {
   "codemirror_mode": {
    "name": "ipython",
    "version": 3
   },
   "file_extension": ".py",
   "mimetype": "text/x-python",
   "name": "python",
   "nbconvert_exporter": "python",
   "pygments_lexer": "ipython3",
   "version": "3.10.15"
  }
 },
 "nbformat": 4,
 "nbformat_minor": 2
}
