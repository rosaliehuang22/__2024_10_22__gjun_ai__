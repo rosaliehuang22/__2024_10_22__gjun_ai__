{
 "cells": [
  {
   "cell_type": "code",
   "execution_count": null,
   "metadata": {},
   "outputs": [
    {
     "name": "stdout",
     "output_type": "stream",
     "text": [
      "BMI的計算\n",
      "請輸入姓名: AMY\n",
      "請輸入身高(cm): 160\n",
      "請輸入體重(kg): 54\n",
      "AMY的BMI值: 21.09\n",
      "AMY的體重：正常\n",
      "您還要繼續嗎?(y繼續,n結束):Y\n",
      "=============\n",
      "BMI的計算\n",
      "請輸入姓名: ESME\n",
      "請輸入身高(cm): 157\n",
      "請輸入體重(kg): 43\n",
      "ESME的BMI值: 17.44\n",
      "ESME的體重：體重過輕\n",
      "您還要繼續嗎?(y繼續,n結束):N\n",
      "=============\n",
      "應用程式結束\n"
     ]
    }
   ],
   "source": [
    "while (True):\n",
    "    print(\"BMI的計算\")\n",
    "\n",
    "    try:\n",
    "        name = input(\"Please add the name: \")\n",
    "        print(f\"Please add the name: {name}\")\n",
    "\n",
    "        height = float(input(\"Please add the height (cm): \"))\n",
    "        print(f\"Please add the height: {height} cm\")\n",
    "\n",
    "        weight = float(input(\"Please add the weight (kg): \"))\n",
    "        print(f\"Please add the weight: {weight} kg\")\n",
    "    \n",
    "    except ValueError:\n",
    "        print(\"Format error, please re-enter\")\n",
    "        print(\"======================\")\n",
    "        continue\n",
    "\n",
    "    bmi = round((weight / (height/100)**2),1)\n",
    "    print(f\"{name}'s bmi: {bmi}\")\n",
    "\n",
    "    if bmi >= 35:\n",
    "        status = \"重度肥胖\"\n",
    "    elif bmi >= 30:\n",
    "        status =\"中度肥胖\"\n",
    "    elif bmi >= 27:\n",
    "        status =\"輕度肥胖\"\n",
    "    elif bmi >= 24:\n",
    "        status =\"過重\"\n",
    "    elif bmi >= 18.5:\n",
    "        status =\"正常\"\n",
    "    else:\n",
    "        status =\"體重過輕\"\n",
    "    print(f\"{name}'s status: {status}\")        \n",
    "\n",
    "    choice = input(\"Do you want to continue? (y continues, n ends): \")\n",
    "    print(f\"Do you want to continue? (y continues, n ends): {choice}\")\n",
    "    print(\"======================\")\n",
    "    if choice.upper() == \"N\":\n",
    "        break"
   ]
  }
 ],
 "metadata": {
  "kernelspec": {
   "display_name": "Python 3",
   "language": "python",
   "name": "python3"
  },
  "language_info": {
   "codemirror_mode": {
    "name": "ipython",
    "version": 3
   },
   "file_extension": ".py",
   "mimetype": "text/x-python",
   "name": "python",
   "nbconvert_exporter": "python",
   "pygments_lexer": "ipython3",
   "version": "3.10.15"
  }
 },
 "nbformat": 4,
 "nbformat_minor": 2
}
