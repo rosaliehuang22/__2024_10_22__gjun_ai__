{
 "cells": [
  {
   "cell_type": "code",
   "execution_count": 16,
   "metadata": {},
   "outputs": [
    {
     "name": "stdout",
     "output_type": "stream",
     "text": [
      "請輸入人數:3\n",
      "姓名 : 余丞苓\n",
      "身高 : 181 公分\n",
      "體重 : 82 公斤\n",
      "BMI : 25.03\n",
      "狀態 : 過重\n",
      "=======\n",
      "姓名 : 張凡成\n",
      "身高 : 178 公分\n",
      "體重 : 53 公斤\n",
      "BMI : 16.73\n",
      "狀態 : 體重過輕\n",
      "=======\n",
      "姓名 : 高士凱\n",
      "身高 : 163 公分\n",
      "體重 : 42 公斤\n",
      "BMI : 15.81\n",
      "狀態 : 體重過輕\n",
      "=======\n"
     ]
    }
   ],
   "source": [
    "import random\n",
    "\n",
    "# Function to read name from file and choose random\n",
    "def get_names(nums:int=2)->list[str]:\n",
    "    with open('names.txt', 'r', encoding='utf-8') as file:\n",
    "        names = file.read().splitlines() # Read each line\n",
    "    return random.sample(names, k=nums) # Randomly select without duplicates\n",
    "\n",
    "# Function to calculate health status based on BMI\n",
    "def get_status(bmi:int):\n",
    "    if bmi >=35:\n",
    "        return \"重度肥胖\"\n",
    "    elif bmi >= 30:\n",
    "        return \"中度肥胖\"\n",
    "    elif bmi >= 27:\n",
    "        return \"輕度肥胖\"\n",
    "    elif bmi >= 24:\n",
    "        return \"過重\"\n",
    "    elif bmi >= 18.5:\n",
    "        return \"正常範圍\"\n",
    "    else:\n",
    "        return \"體重過輕\"\n",
    "\n",
    "# Function to create a list of students with BMI and status\n",
    "def generate_bmi(names:list[str])->list[dict]:\n",
    "    students = []\n",
    "    for name in names:\n",
    "        height = random.randint(150,190)\n",
    "        weight = random.randint(40,100)\n",
    "        bmi = round(weight / ((height / 100) ** 2), 2)\n",
    "        status = get_status(bmi)\n",
    "\n",
    "        student = {\n",
    "            'name': name,\n",
    "            'height': height,\n",
    "            'weight': weight,\n",
    "            'bmi': bmi,\n",
    "            'status': status\n",
    "        }\n",
    "\n",
    "        students.append(student)\n",
    "    return students\n",
    "\n",
    "nums = int(input('請輸入人數: '))\n",
    "names = get_names(nums=nums) # Get the list of names\n",
    "students = generate_bmi(names) # Create student list with BMI information\n",
    "print(f\"請輸入人數:{nums}\")\n",
    "\n",
    "# Print each student's information\n",
    "for student in students:\n",
    "    print(f\"姓名 : {student['name']}\")\n",
    "    print(f\"身高 : {student['height']} 公分\")\n",
    "    print(f\"體重 : {student['weight']} 公斤\")\n",
    "    print(f\"BMI : {student['bmi']}\")\n",
    "    print(f\"狀態 : {student['status']}\")\n",
    "    print(\"=======\")\n",
    "\n",
    "\n"
   ]
  }
 ],
 "metadata": {
  "kernelspec": {
   "display_name": "Python 3",
   "language": "python",
   "name": "python3"
  },
  "language_info": {
   "codemirror_mode": {
    "name": "ipython",
    "version": 3
   },
   "file_extension": ".py",
   "mimetype": "text/x-python",
   "name": "python",
   "nbconvert_exporter": "python",
   "pygments_lexer": "ipython3",
   "version": "3.10.15"
  }
 },
 "nbformat": 4,
 "nbformat_minor": 2
}
