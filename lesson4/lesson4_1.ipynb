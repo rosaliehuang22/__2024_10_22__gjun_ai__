{
 "cells": [
  {
   "cell_type": "markdown",
   "metadata": {},
   "source": [
    "### 判斷if"
   ]
  },
  {
   "cell_type": "code",
   "execution_count": null,
   "metadata": {},
   "outputs": [
    {
     "name": "stdout",
     "output_type": "stream",
     "text": [
      "加分\n",
      "學生的分數：262\n"
     ]
    }
   ],
   "source": [
    "#學生總分最高為300\n",
    "score = eval(input('請輸入學生分數(最高為300分)：'))\n",
    "#如果分數超過300,就以300分為準\n",
    "if (score > 300):\n",
    "    score = 300\n",
    "#有些學生可以加分5%\n",
    "is_add = input('學生是否符合加分條件?(y,n)')\n",
    "if (is_add == 'y'):\n",
    "    score *= 1.05\n",
    "print(f'學生的分數：{score:.0f}')\n"
   ]
  },
  {
   "cell_type": "code",
   "execution_count": null,
   "metadata": {},
   "outputs": [
    {
     "name": "stdout",
     "output_type": "stream",
     "text": [
      "學生的分數：300\n"
     ]
    }
   ],
   "source": [
    "#學生總分最高為300\n",
    "score = eval(input('請輸入學生分數(最高為300分)：'))\n",
    "#如果分數超過300,就以300分為準\n",
    "if (score > 300):\n",
    "    score = 300\n",
    "#有些學生可以加分5%\n",
    "is_add = input('學生是否符合加分條件?(y,n)')\n",
    "if (is_add == 'y'):\n",
    "    score *= 1.05\n",
    "    #巢狀判斷\n",
    "    if (score > 300):\n",
    "        score = 300\n",
    "print(f'學生的分數：{score:.0f}')\n"
   ]
  },
  {
   "cell_type": "markdown",
   "metadata": {},
   "source": [
    "### python raise 錯誤\n",
    "- 自已raise錯誤\n",
    "- 系統錯誤"
   ]
  },
  {
   "cell_type": "code",
   "execution_count": null,
   "metadata": {},
   "outputs": [
    {
     "ename": "RuntimeError",
     "evalue": "",
     "output_type": "error",
     "traceback": [
      "\u001b[0;31m---------------------------------------------------------------------------\u001b[0m",
      "\u001b[0;31mRuntimeError\u001b[0m                              Traceback (most recent call last)",
      "Cell \u001b[0;32mIn[3], line 2\u001b[0m\n\u001b[1;32m      1\u001b[0m \u001b[38;5;66;03m#自已raise 錯誤\u001b[39;00m\n\u001b[0;32m----> 2\u001b[0m \u001b[38;5;28;01mraise\u001b[39;00m \u001b[38;5;167;01mRuntimeError\u001b[39;00m\n",
      "\u001b[0;31mRuntimeError\u001b[0m: "
     ]
    }
   ],
   "source": [
    "#自已raise錯誤\n",
    "raise RuntimeError"
   ]
  },
  {
   "cell_type": "code",
   "execution_count": 4,
   "metadata": {},
   "outputs": [
    {
     "ename": "ZeroDivisionError",
     "evalue": "division by zero",
     "output_type": "error",
     "traceback": [
      "\u001b[0;31m---------------------------------------------------------------------------\u001b[0m",
      "\u001b[0;31mZeroDivisionError\u001b[0m                         Traceback (most recent call last)",
      "Cell \u001b[0;32mIn[4], line 2\u001b[0m\n\u001b[1;32m      1\u001b[0m \u001b[38;5;66;03m#系統raise錯誤\u001b[39;00m\n\u001b[0;32m----> 2\u001b[0m \u001b[38;5;241;43m1\u001b[39;49m\u001b[38;5;241;43m/\u001b[39;49m\u001b[38;5;241;43m0\u001b[39;49m\n",
      "\u001b[0;31mZeroDivisionError\u001b[0m: division by zero"
     ]
    }
   ],
   "source": [
    "#系統raise錯誤\n",
    "1/0"
   ]
  },
  {
   "cell_type": "code",
   "execution_count": 5,
   "metadata": {},
   "outputs": [
    {
     "ename": "Exception",
     "evalue": "無法處理",
     "output_type": "error",
     "traceback": [
      "\u001b[0;31m---------------------------------------------------------------------------\u001b[0m",
      "\u001b[0;31mException\u001b[0m                                 Traceback (most recent call last)",
      "Cell \u001b[0;32mIn[5], line 2\u001b[0m\n\u001b[1;32m      1\u001b[0m \u001b[38;5;66;03m#利用內建的例外,發出自訂的錯誤\u001b[39;00m\n\u001b[0;32m----> 2\u001b[0m \u001b[38;5;28;01mraise\u001b[39;00m \u001b[38;5;167;01mException\u001b[39;00m(\u001b[38;5;124m'\u001b[39m\u001b[38;5;124m無法處理\u001b[39m\u001b[38;5;124m'\u001b[39m)\n",
      "\u001b[0;31mException\u001b[0m: 無法處理"
     ]
    }
   ],
   "source": [
    "#利用內建的例外,發出自訂的錯誤\n",
    "raise Exception('無法處理')"
   ]
  },
  {
   "cell_type": "code",
   "execution_count": null,
   "metadata": {},
   "outputs": [
    {
     "name": "stdout",
     "output_type": "stream",
     "text": [
      "發生錯誤\n"
     ]
    }
   ],
   "source": [
    "#處理錯誤try...except...else..finally\n",
    "#優雅的失敗 = 不會crash\n",
    "try:\n",
    "    raise Exception('無法處理！')\n",
    "except:\n",
    "    print('發生錯誤')"
   ]
  },
  {
   "cell_type": "code",
   "execution_count": 8,
   "metadata": {},
   "outputs": [
    {
     "name": "stdout",
     "output_type": "stream",
     "text": [
      "發生錯誤\n",
      "錯誤是：無法處理！\n"
     ]
    }
   ],
   "source": [
    "#處理錯誤try...except...else..finally\n",
    "#優雅的失敗 = 不會crash\n",
    "try:\n",
    "    raise Exception('無法處理！')\n",
    "#不管是什麼錯誤都變成e\n",
    "except Exception as e: \n",
    "    print('發生錯誤')\n",
    "    print(f'錯誤是：{e}')"
   ]
  },
  {
   "cell_type": "code",
   "execution_count": 10,
   "metadata": {},
   "outputs": [
    {
     "name": "stdout",
     "output_type": "stream",
     "text": [
      "沒有錯誤！\n"
     ]
    }
   ],
   "source": [
    "#處理錯誤try...except...else..finally\n",
    "#優雅的失敗 = 不會crash\n",
    "try:\n",
    "    #raise Exception('無法處理！')\n",
    "    pass\n",
    "#不管是什麼錯誤都變成e\n",
    "except Exception as e: \n",
    "    print('發生錯誤')\n",
    "    print(f'錯誤是：{e}')\n",
    "#沒有發生錯誤，需要執行的code\n",
    "else:\n",
    "    print('沒有錯誤！')"
   ]
  },
  {
   "cell_type": "code",
   "execution_count": 15,
   "metadata": {},
   "outputs": [
    {
     "name": "stdout",
     "output_type": "stream",
     "text": [
      "目前發生錯誤：invalid decimal literal (<string>, line 1)\n"
     ]
    }
   ],
   "source": [
    "try:\n",
    "    money = eval(input('請輸入金額：'))\n",
    "    print(f'{money}')\n",
    "except Exception as e:\n",
    "    print(f'目前發生錯誤：{e}')"
   ]
  }
 ],
 "metadata": {
  "kernelspec": {
   "display_name": "Python 3",
   "language": "python",
   "name": "python3"
  },
  "language_info": {
   "codemirror_mode": {
    "name": "ipython",
    "version": 3
   },
   "file_extension": ".py",
   "mimetype": "text/x-python",
   "name": "python",
   "nbconvert_exporter": "python",
   "pygments_lexer": "ipython3",
   "version": "3.10.15"
  }
 },
 "nbformat": 4,
 "nbformat_minor": 2
}
