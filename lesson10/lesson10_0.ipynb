{
 "cells": [
  {
   "cell_type": "code",
   "execution_count": 2,
   "metadata": {},
   "outputs": [
    {
     "name": "stdout",
     "output_type": "stream",
     "text": [
      "姓名:李美洋\n",
      "身高:144\n",
      "體重:91\n",
      "BMI:43.89\n",
      "狀態:您的體重:重度肥胖\n",
      "===========================\n",
      "姓名:潘英迪\n",
      "身高:184\n",
      "體重:102\n",
      "BMI:30.13\n",
      "狀態:您的體重:中度肥胖\n",
      "===========================\n",
      "姓名:吳昕婷\n",
      "身高:179\n",
      "體重:71\n",
      "BMI:22.16\n",
      "狀態:您的體重:正常範圍\n",
      "===========================\n"
     ]
    }
   ],
   "source": [
    "import random\n",
    "class BMI(): \n",
    "    def __init__(self,name:str,height:int,weight:int): \n",
    "        self.name = name\n",
    "        self.height = height\n",
    "        self.weight = weight\n",
    "\n",
    "    def get_bmi(self)->float: #取得bmi\n",
    "        return round(self.weight / (self.height/100) ** 2,ndigits=2)\n",
    "    \n",
    "    def get_status(self)->str:  #取得status\n",
    "        bmi = self.get_bmi()\n",
    "        if bmi >=35:\n",
    "            status = \"您的體重:重度肥胖\"\n",
    "        elif bmi >= 30:\n",
    "            status = \"您的體重:中度肥胖\"\n",
    "        elif bmi >= 27:\n",
    "            status = \"您的體重:輕度肥胖\"\n",
    "        elif bmi >= 24:\n",
    "            status = \"您的體重:過重\"\n",
    "        elif bmi >= 18.5:\n",
    "            status = \"您的體重:正常範圍\"\n",
    "        else:\n",
    "            status = \"您的體重:體重過輕\"\n",
    "        return status\n",
    "\n",
    "def get_name(nums:int=2)->list[str]: #抓取name.txt裡面的名字\n",
    "    with open('names.txt',mode='r',encoding='utf-8') as file:\n",
    "            names_str = file.read()\n",
    "    names = names_str.split()\n",
    "    names = random.choices(names,k=nums)\n",
    "    return  names\n",
    "     \n",
    "def generate_bmi(names:list[str])->list[BMI]: \n",
    "    students:list[BMI] = []\n",
    "    for name in names:\n",
    "        height = random.randint(140,190)\n",
    "        weight = random.randint(50,110)\n",
    "        student_STATUS = BMI(name, height, weight)\n",
    "        students.append(student_STATUS) #list實體化 \n",
    "    return students\n",
    "\n",
    "if __name__ == '__main__':\n",
    "    nums = int(input('請輸入人數:'))\n",
    "    names:list[str] = get_name(nums=nums)\n",
    "    students:list[BMI] = generate_bmi(names=names)\n",
    "    for student in students:\n",
    "        print(f\"姓名:{student.name}\")\n",
    "        print(f\"身高:{student.height}\")\n",
    "        print(f\"體重:{student.weight}\")\n",
    "        print(f\"BMI:{student.get_bmi()}\")\n",
    "        print(f\"狀態:{student.get_status()}\")\n",
    "        print(\"===========================\")"
   ]
  }
 ],
 "metadata": {
  "kernelspec": {
   "display_name": "Python 3",
   "language": "python",
   "name": "python3"
  },
  "language_info": {
   "codemirror_mode": {
    "name": "ipython",
    "version": 3
   },
   "file_extension": ".py",
   "mimetype": "text/x-python",
   "name": "python",
   "nbconvert_exporter": "python",
   "pygments_lexer": "ipython3",
   "version": "3.10.15"
  }
 },
 "nbformat": 4,
 "nbformat_minor": 2
}
