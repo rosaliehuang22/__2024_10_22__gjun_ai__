{
 "cells": [
  {
   "cell_type": "code",
   "execution_count": null,
   "metadata": {},
   "outputs": [
    {
     "name": "stdout",
     "output_type": "stream",
     "text": [
      "發生錯誤\n"
     ]
    }
   ],
   "source": [
    "#第1種解決方法\n",
    "try:\n",
    "    #學生總分最高為300\n",
    "    score = eval(input('請輸入學生分數(最高300分):'))\n",
    "except:\n",
    "    print(\"發生錯誤\")\n",
    "else:\n",
    "    #如果分數超過300,就以300分為準\n",
    "    if (score > 300):\n",
    "        score = 300\n",
    "    #有些學生可以加分5%\n",
    "    is_add = input('學生是否符合加分條件?(y,n)')\n",
    "    if (is_add == 'y'):\n",
    "        score *= 1.05\n",
    "        #巢狀判斷\n",
    "        if (score > 300):\n",
    "            score = 300\n",
    "    print(f'學生的分數：{score:.0f}')"
   ]
  },
  {
   "cell_type": "code",
   "execution_count": null,
   "metadata": {},
   "outputs": [
    {
     "name": "stdout",
     "output_type": "stream",
     "text": [
      "發生錯誤\n",
      "程式結束！\n"
     ]
    }
   ],
   "source": [
    "#第2種解決方法\n",
    "try:\n",
    "    #學生總分最高為300\n",
    "    score = eval(input('請輸入學生分數(最高300分):'))\n",
    "    #如果分數超過300,就以300分為準\n",
    "    if (score > 300):\n",
    "        score = 300\n",
    "    #有些學生可以加分5%\n",
    "    is_add = input('學生是否符合加分條件?(y,n)')\n",
    "    if (is_add == 'y'):\n",
    "        score *= 1.05\n",
    "        #巢狀判斷\n",
    "        if (score > 300):\n",
    "            score = 300\n",
    "    print(f'學生的分數：{score:.0f}')\n",
    "except SyntaxError:\n",
    "    print(\"輸入格式錯誤\")\n",
    "except Exception:\n",
    "    print(\"不知明的錯誤\")\n",
    "\n",
    "print(\"程式結束！\")\n"
   ]
  }
 ],
 "metadata": {
  "kernelspec": {
   "display_name": "Python 3",
   "language": "python",
   "name": "python3"
  },
  "language_info": {
   "codemirror_mode": {
    "name": "ipython",
    "version": 3
   },
   "file_extension": ".py",
   "mimetype": "text/x-python",
   "name": "python",
   "nbconvert_exporter": "python",
   "pygments_lexer": "ipython3",
   "version": "3.10.15"
  }
 },
 "nbformat": 4,
 "nbformat_minor": 2
}
