{
 "cells": [
  {
   "cell_type": "code",
   "execution_count": 12,
   "metadata": {},
   "outputs": [],
   "source": [
    "import tools\n",
    "from tools import BMI\n",
    "from pprint import pprint\n",
    "import csv\n",
    "\n",
    "if __name__ == '__main__':\n",
    "    nums = int(input('請輸入人數:'))\n",
    "    names:list[str] = tools.get_name(nums=nums)\n",
    "    students:list[BMI] = tools.generate_bmi(names=names)\n",
    "    file_dict:list[dict] = []\n",
    "    for student in students:\n",
    "        student_dict = {\n",
    "            \"姓名\":student.name,\n",
    "            \"身高\":student.height,\n",
    "            \"體重\":student.weight,\n",
    "            \"BMI\":student.get_bmi(),\n",
    "            \"狀態\":student.get_status()\n",
    "        }\n",
    "        file_dict.append(student_dict)\n",
    "        \n",
    "    #pprint(file_dict)\n",
    "    with open ('bmi.csv','w',encoding='utf-8',newline='') as file:\n",
    "        dict_writer = csv.DictWriter(file,['姓名','身高','體重','BMI','狀態'])\n",
    "        dict_writer.writeheader()\n",
    "        dict_writer.writerows(file_dict)"
   ]
  }
 ],
 "metadata": {
  "kernelspec": {
   "display_name": "Python 3",
   "language": "python",
   "name": "python3"
  },
  "language_info": {
   "codemirror_mode": {
    "name": "ipython",
    "version": 3
   },
   "file_extension": ".py",
   "mimetype": "text/x-python",
   "name": "python",
   "nbconvert_exporter": "python",
   "pygments_lexer": "ipython3",
   "version": "3.10.15"
  }
 },
 "nbformat": 4,
 "nbformat_minor": 2
}
