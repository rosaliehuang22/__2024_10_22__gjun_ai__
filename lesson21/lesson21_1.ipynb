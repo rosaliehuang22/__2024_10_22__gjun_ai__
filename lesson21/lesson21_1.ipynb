{
 "cells": [
  {
   "cell_type": "code",
   "execution_count": 1,
   "metadata": {},
   "outputs": [
    {
     "ename": "KeyError",
     "evalue": "'Gemini_API_KEY'",
     "output_type": "error",
     "traceback": [
      "\u001b[0;31m---------------------------------------------------------------------------\u001b[0m",
      "\u001b[0;31mKeyError\u001b[0m                                  Traceback (most recent call last)",
      "Cell \u001b[0;32mIn[1], line 2\u001b[0m\n\u001b[1;32m      1\u001b[0m \u001b[38;5;28;01mimport\u001b[39;00m \u001b[38;5;21;01mos\u001b[39;00m\n\u001b[0;32m----> 2\u001b[0m key \u001b[38;5;241m=\u001b[39m \u001b[43mos\u001b[49m\u001b[38;5;241;43m.\u001b[39;49m\u001b[43menviron\u001b[49m\u001b[43m[\u001b[49m\u001b[38;5;124;43m'\u001b[39;49m\u001b[38;5;124;43mGemini_API_KEY\u001b[39;49m\u001b[38;5;124;43m'\u001b[39;49m\u001b[43m]\u001b[49m\n",
      "File \u001b[0;32m/usr/local/lib/python3.10/os.py:680\u001b[0m, in \u001b[0;36m_Environ.__getitem__\u001b[0;34m(self, key)\u001b[0m\n\u001b[1;32m    677\u001b[0m     value \u001b[38;5;241m=\u001b[39m \u001b[38;5;28mself\u001b[39m\u001b[38;5;241m.\u001b[39m_data[\u001b[38;5;28mself\u001b[39m\u001b[38;5;241m.\u001b[39mencodekey(key)]\n\u001b[1;32m    678\u001b[0m \u001b[38;5;28;01mexcept\u001b[39;00m \u001b[38;5;167;01mKeyError\u001b[39;00m:\n\u001b[1;32m    679\u001b[0m     \u001b[38;5;66;03m# raise KeyError with the original key value\u001b[39;00m\n\u001b[0;32m--> 680\u001b[0m     \u001b[38;5;28;01mraise\u001b[39;00m \u001b[38;5;167;01mKeyError\u001b[39;00m(key) \u001b[38;5;28;01mfrom\u001b[39;00m \u001b[38;5;28;01mNone\u001b[39;00m\n\u001b[1;32m    681\u001b[0m \u001b[38;5;28;01mreturn\u001b[39;00m \u001b[38;5;28mself\u001b[39m\u001b[38;5;241m.\u001b[39mdecodevalue(value)\n",
      "\u001b[0;31mKeyError\u001b[0m: 'Gemini_API_KEY'"
     ]
    }
   ],
   "source": [
    "import os\n",
    "key = os.environ['Gemini_API_KEY']"
   ]
  },
  {
   "cell_type": "code",
   "execution_count": 8,
   "metadata": {},
   "outputs": [
    {
     "name": "stdout",
     "output_type": "stream",
     "text": [
      "```html\n",
      "<!DOCTYPE html>\n",
      "<html lang=\"zh-TW\">\n",
      "<head>\n",
      "    <meta charset=\"UTF-8\">\n",
      "    <meta name=\"viewport\" content=\"width=device-width, initial-scale=1.0\">\n",
      "    <title>學習 Python 的方法</title>\n",
      "    <style>\n",
      "        body {\n",
      "            font-family: sans-serif;\n",
      "            line-height: 1.6;\n",
      "        }\n",
      "        h1, h2, h3 {\n",
      "            color: #333;\n",
      "        }\n",
      "        ul {\n",
      "            list-style-type: disc;\n",
      "            margin-left: 20px;\n",
      "        }\n",
      "        strong {\n",
      "            font-weight: bold;\n",
      "        }\n",
      "    </style>\n",
      "</head>\n",
      "<body>\n",
      "    <h1>學習 Python 的方法</h1>\n",
      "\n",
      "    <p>學習 Python 是一個循序漸進的過程，沒有捷徑，但有很多資源可以幫助你。以下提供一些建議：</p>\n",
      "\n",
      "    <h2>1. 選擇適合你的學習資源</h2>\n",
      "    <ul>\n",
      "        <li><strong>線上課程：</strong> Coursera, edX, Udemy, Udacity 等平台提供許多 Python 課程，從初學者到進階都有。選擇適合你學習風格和目標的課程很重要。</li>\n",
      "        <li><strong>線上教程：</strong>  許多網站提供免費的 Python 教程，例如：\n",
      "            <ul>\n",
      "                <li><a href=\"https://www.w3schools.com/python/\">W3Schools Python Tutorial</a></li>\n",
      "                <li><a href=\"https://docs.python.org/3/tutorial/\">官方 Python 教程</a></li>\n",
      "                <li><a href=\"https://realpython.com/\">Real Python</a> (部分內容需要付費)</li>\n",
      "            </ul>\n",
      "        </li>\n",
      "        <li><strong>書籍：</strong>  許多優秀的 Python 教材可以幫助你系統地學習，例如《Python 编程：从入门到实践》、《流畅的 Python》等。</li>\n",
      "        <li><strong>YouTube 頻道：</strong>  許多 YouTube 頻道提供 Python 教程影片，可以幫助你理解概念。</li>\n",
      "    </ul>\n",
      "\n",
      "    <h2>2.  制定學習計劃</h2>\n",
      "    <ul>\n",
      "        <li><strong>設定明確的目標：</strong> 你想用 Python 做什麼？網頁開發？數據分析？機器學習？  目標越明確，學習效率越高。</li>\n",
      "        <li><strong>循序漸進：</strong>  不要急於求成，從基礎開始學習，逐步掌握更進階的內容。</li>\n",
      "        <li><strong>堅持練習：</strong>  程式設計是实践的学科，只有不斷練習才能真正掌握。</li>\n",
      "        <li><strong>定期複習：</strong>  定期回顧之前學過的內容，可以加深印象。</li>\n",
      "    </ul>\n",
      "\n",
      "    <h2>3.  善用工具和資源</h2>\n",
      "    <ul>\n",
      "        <li><strong>IDE (整合開發環境)：</strong>  選擇一個適合你的 IDE，例如 PyCharm, VS Code, Thonny 等。IDE 可以提供程式碼自動完成、除錯等功能，提高開發效率。</li>\n",
      "        <li><strong>線上編譯器：</strong>  例如 Repl.it, OnlineGDB 等，方便隨時隨地編寫和執行程式碼。</li>\n",
      "        <li><strong>社群和論壇：</strong>  遇到問題時，可以向社群尋求幫助，例如 Stack Overflow。</li>\n",
      "    </ul>\n",
      "\n",
      "    <h2>4.  從小專案開始</h2>\n",
      "    <ul>\n",
      "        <li><strong>實踐是最好的老師：</strong>  完成一些小專案可以幫助你巩固所學的知識，並培養解決問題的能力。</li>\n",
      "        <li><strong>逐步增加專案的複雜度：</strong>  從簡單的程式開始，逐步挑戰更複雜的專案。</li>\n",
      "    </ul>\n",
      "\n",
      "    <p>學習 Python 需要時間和耐心，但只要堅持下去，你一定可以掌握這門強大的程式語言！</p>\n",
      "</body>\n",
      "</html>\n",
      "```\n",
      "\n"
     ]
    }
   ],
   "source": [
    "import google.generativeai as genai\n",
    "\n",
    "genai.configure(api_key=Gemini_API_KEY)\n",
    "model = genai.GenerativeModel(\"gemini-1.5-flash\") #最便宜的\n",
    "response = model.generate_content(\"如何學習python, 回應請輸出成html格式\")\n",
    "print(response.text)"
   ]
  }
 ],
 "metadata": {
  "kernelspec": {
   "display_name": "Python 3",
   "language": "python",
   "name": "python3"
  },
  "language_info": {
   "codemirror_mode": {
    "name": "ipython",
    "version": 3
   },
   "file_extension": ".py",
   "mimetype": "text/x-python",
   "name": "python",
   "nbconvert_exporter": "python",
   "pygments_lexer": "ipython3",
   "version": "3.10.15"
  }
 },
 "nbformat": 4,
 "nbformat_minor": 2
}
