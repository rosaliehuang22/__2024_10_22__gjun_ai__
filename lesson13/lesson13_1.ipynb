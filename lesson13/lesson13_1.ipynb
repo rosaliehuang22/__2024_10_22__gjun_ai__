{
 "cells": [
  {
   "cell_type": "code",
   "execution_count": null,
   "metadata": {},
   "outputs": [
    {
     "data": {
      "text/plain": [
       "numpy.ndarray"
      ]
     },
     "execution_count": 2,
     "metadata": {},
     "output_type": "execute_result"
    }
   ],
   "source": [
    "import numpy as np\n",
    "array1 = np.array([1,2,3,4,5])\n",
    "type(array1)\n",
    "array1"
   ]
  },
  {
   "cell_type": "code",
   "execution_count": 3,
   "metadata": {},
   "outputs": [
    {
     "data": {
      "text/plain": [
       "array([9, 8, 7, 6, 5])"
      ]
     },
     "execution_count": 3,
     "metadata": {},
     "output_type": "execute_result"
    }
   ],
   "source": [
    "array2 = np.array([9,8,7,6,5])\n",
    "array2"
   ]
  },
  {
   "cell_type": "code",
   "execution_count": 4,
   "metadata": {},
   "outputs": [
    {
     "data": {
      "text/plain": [
       "array([10, 10, 10, 10, 10])"
      ]
     },
     "execution_count": 4,
     "metadata": {},
     "output_type": "execute_result"
    }
   ],
   "source": [
    "array3 = array1 + array2\n",
    "array3"
   ]
  },
  {
   "cell_type": "code",
   "execution_count": null,
   "metadata": {},
   "outputs": [
    {
     "data": {
      "text/plain": [
       "array([4.68511868e-310, 0.00000000e+000, 0.00000000e+000, 0.00000000e+000,\n",
       "       4.72176024e+257, 8.75413118e+169, 1.14195572e-071, 4.76181309e-090,\n",
       "       9.84095898e-072, 5.18089433e-310])"
      ]
     },
     "execution_count": 5,
     "metadata": {},
     "output_type": "execute_result"
    }
   ],
   "source": [
    "#Create an empty array with 10 elements\n",
    "np.empty((10,))"
   ]
  },
  {
   "cell_type": "code",
   "execution_count": null,
   "metadata": {},
   "outputs": [
    {
     "data": {
      "text/plain": [
       "array([0.5, 1. , 1.5, 2. , 2.5, 3. , 3.5, 4. , 4.5, 5. , 5.5, 6. , 6.5,\n",
       "       7. , 7.5, 8. , 8.5, 9. , 9.5])"
      ]
     },
     "execution_count": 7,
     "metadata": {},
     "output_type": "execute_result"
    }
   ],
   "source": [
    "#The order: starting value of the sequence, the ending value of the sequence, the step size\n",
    "np.arange(0.5,10,0.5)\n"
   ]
  },
  {
   "cell_type": "code",
   "execution_count": null,
   "metadata": {},
   "outputs": [
    {
     "data": {
      "text/plain": [
       "array([-3.        , -2.87755102, -2.75510204, -2.63265306, -2.51020408,\n",
       "       -2.3877551 , -2.26530612, -2.14285714, -2.02040816, -1.89795918,\n",
       "       -1.7755102 , -1.65306122, -1.53061224, -1.40816327, -1.28571429,\n",
       "       -1.16326531, -1.04081633, -0.91836735, -0.79591837, -0.67346939,\n",
       "       -0.55102041, -0.42857143, -0.30612245, -0.18367347, -0.06122449,\n",
       "        0.06122449,  0.18367347,  0.30612245,  0.42857143,  0.55102041,\n",
       "        0.67346939,  0.79591837,  0.91836735,  1.04081633,  1.16326531,\n",
       "        1.28571429,  1.40816327,  1.53061224,  1.65306122,  1.7755102 ,\n",
       "        1.89795918,  2.02040816,  2.14285714,  2.26530612,  2.3877551 ,\n",
       "        2.51020408,  2.63265306,  2.75510204,  2.87755102,  3.        ])"
      ]
     },
     "execution_count": 8,
     "metadata": {},
     "output_type": "execute_result"
    }
   ],
   "source": [
    "#Generate a sequence of evenly spaced numbers within a specified range\n",
    "#50 elements by default\n",
    "np.linspace(-3, 3)\n"
   ]
  }
 ],
 "metadata": {
  "kernelspec": {
   "display_name": "Python 3",
   "language": "python",
   "name": "python3"
  },
  "language_info": {
   "codemirror_mode": {
    "name": "ipython",
    "version": 3
   },
   "file_extension": ".py",
   "mimetype": "text/x-python",
   "name": "python",
   "nbconvert_exporter": "python",
   "pygments_lexer": "ipython3",
   "version": "3.10.15"
  }
 },
 "nbformat": 4,
 "nbformat_minor": 2
}
