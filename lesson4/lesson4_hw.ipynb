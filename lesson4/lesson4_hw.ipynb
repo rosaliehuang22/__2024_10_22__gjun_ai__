{
 "cells": [
  {
   "cell_type": "markdown",
   "metadata": {},
   "source": [
    "### 計算BMI值"
   ]
  },
  {
   "cell_type": "code",
   "execution_count": 12,
   "metadata": {},
   "outputs": [
    {
     "name": "stdout",
     "output_type": "stream",
     "text": [
      "不知名的錯誤，結束程式！\n"
     ]
    }
   ],
   "source": [
    "try:\n",
    "    height = eval(input('請輸入身高(cm): '))\n",
    "    weigh = eval(input('請輸入體重(kg): '))\n",
    "    print(f'請輸入身高(cm): {height}')\n",
    "    print(f'請輸入體重(kg): {weigh}')\n",
    "    bmi = weigh / (height/100) ** 2\n",
    "    print(f'您的BMI值: {bmi:.1f}')\n",
    "    if (bmi >= 35):\n",
    "        print('您的體重：重度肥胖')\n",
    "    elif (bmi >= 30):\n",
    "        print('您的體重：中度肥胖')\n",
    "    elif (bmi >= 27):\n",
    "        print('您的體重：輕度肥胖')\n",
    "    elif (bmi >= 24):\n",
    "        print('您的體重：過重')\n",
    "    elif (bmi >= 18.5):\n",
    "        print('您的體重：正常')\n",
    "    else:\n",
    "        print('您的體重：體重過輕')\n",
    "except SyntaxError:\n",
    "    print(\"格式錯誤，結束程式！\")\n",
    "except Exception:\n",
    "    print(\"不知名的錯誤，結束程式！\")"
   ]
  }
 ],
 "metadata": {
  "kernelspec": {
   "display_name": "Python 3",
   "language": "python",
   "name": "python3"
  },
  "language_info": {
   "codemirror_mode": {
    "name": "ipython",
    "version": 3
   },
   "file_extension": ".py",
   "mimetype": "text/x-python",
   "name": "python",
   "nbconvert_exporter": "python",
   "pygments_lexer": "ipython3",
   "version": "3.10.15"
  }
 },
 "nbformat": 4,
 "nbformat_minor": 2
}
