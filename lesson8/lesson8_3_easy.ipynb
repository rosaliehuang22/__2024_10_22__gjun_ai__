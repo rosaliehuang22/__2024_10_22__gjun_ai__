{
 "cells": [
  {
   "cell_type": "code",
   "execution_count": 1,
   "metadata": {},
   "outputs": [
    {
     "name": "stdout",
     "output_type": "stream",
     "text": [
      "王德城\n",
      "王孝純\n",
      "葉志峰\n"
     ]
    }
   ],
   "source": [
    "#Easy Version\n",
    "import random\n",
    "def get_names(nums=2):\n",
    "    with open('names.txt','r', encoding='utf-8') as file:\n",
    "        names = file.read().splitlines()\n",
    "    random_names = random.sample(names,k=nums)\n",
    "    return random_names\n",
    "\n",
    "nums = int(input('請輸入學生數量(最多10位):'))\n",
    "student_names = get_names(nums=nums)\n",
    "for name in student_names:\n",
    "    print(name)"
   ]
  },
  {
   "cell_type": "code",
   "execution_count": 4,
   "metadata": {},
   "outputs": [],
   "source": [
    "#Easy Version\n",
    "\n",
    "def generate_students(names):\n",
    "    students = []\n",
    "    for name in names:\n",
    "        student ={\n",
    "            'name' : name,\n",
    "            'chinese' : random.randint(50, 100),\n",
    "            'english' : random.randint(50, 100),\n",
    "            'math' : random.randint(50, 100)\n",
    "        }\n",
    "        students.append(student)\n",
    "    return students"
   ]
  },
  {
   "cell_type": "code",
   "execution_count": 5,
   "metadata": {},
   "outputs": [
    {
     "data": {
      "text/plain": [
       "[{'name': '王德城', 'chinese': 78, 'english': 86, 'math': 83},\n",
       " {'name': '王孝純', 'chinese': 54, 'english': 56, 'math': 93},\n",
       " {'name': '葉志峰', 'chinese': 95, 'english': 79, 'math': 66}]"
      ]
     },
     "execution_count": 5,
     "metadata": {},
     "output_type": "execute_result"
    }
   ],
   "source": [
    "students = generate_students(student_names)\n",
    "students"
   ]
  }
 ],
 "metadata": {
  "kernelspec": {
   "display_name": "Python 3",
   "language": "python",
   "name": "python3"
  },
  "language_info": {
   "codemirror_mode": {
    "name": "ipython",
    "version": 3
   },
   "file_extension": ".py",
   "mimetype": "text/x-python",
   "name": "python",
   "nbconvert_exporter": "python",
   "pygments_lexer": "ipython3",
   "version": "3.10.15"
  }
 },
 "nbformat": 4,
 "nbformat_minor": 2
}
