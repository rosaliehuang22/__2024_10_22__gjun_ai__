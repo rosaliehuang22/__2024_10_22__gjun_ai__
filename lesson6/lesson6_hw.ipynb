{
 "cells": [
  {
   "cell_type": "code",
   "execution_count": 20,
   "metadata": {},
   "outputs": [
    {
     "name": "stdout",
     "output_type": "stream",
     "text": [
      "BMI的計算\n",
      "請輸入姓名: AMY\n",
      "請輸入身高(cm): 160\n",
      "請輸入體重(kg): 54\n",
      "AMY的BMI值: 21.09\n",
      "AMY的體重：正常\n",
      "您還要繼續嗎?(y繼續,n結束):Y\n",
      "=============\n",
      "BMI的計算\n",
      "請輸入姓名: ESME\n",
      "請輸入身高(cm): 157\n",
      "請輸入體重(kg): 43\n",
      "ESME的BMI值: 17.44\n",
      "ESME的體重：體重過輕\n",
      "您還要繼續嗎?(y繼續,n結束):N\n",
      "=============\n",
      "應用程式結束\n"
     ]
    }
   ],
   "source": [
    "def bmi_calculator() -> None:\n",
    "    name = input(\"請輸入姓名:\")\n",
    "    height = eval(input('請輸入身高(cm): '))\n",
    "    weigh = eval(input('請輸入體重(kg): '))\n",
    "    BMI = weigh / ((height/100) ** 2)\n",
    "\n",
    "    print(\"BMI的計算\")\n",
    "    print(f\"請輸入姓名: {name}\")\n",
    "    print(f\"請輸入身高(cm): {height}\")\n",
    "    print(f\"請輸入體重(kg): {weigh}\")\n",
    "\n",
    "    print(f'{name}的BMI值: {BMI:.2f}')\n",
    "    if (BMI >= 35):\n",
    "        print(f'{name}的體重：重度肥胖')\n",
    "    elif (BMI >= 30):\n",
    "        print(f'{name}的體重：中度肥胖')\n",
    "    elif (BMI >= 27):\n",
    "        print(f'{name}的體重：輕度肥胖')\n",
    "    elif (BMI >= 24):\n",
    "        print(f'{name}的體重：過重')\n",
    "    elif (BMI >= 18.5):\n",
    "        print(f'{name}的體重：正常')\n",
    "    else:\n",
    "        print(f'{name}的體重：體重過輕')\n",
    "while(True):\n",
    "    try:\n",
    "        bmi_calculator()\n",
    "        answer = input('您還要繼續嗎?(y繼續,n結束)')\n",
    "        print(f\"您還要繼續嗎?(y繼續,n結束):{answer}\")\n",
    "        print(\"=============\")\n",
    "    except Exception:\n",
    "        print(\"輸入格式錯誤，結束程式\")   \n",
    "        print(\"=============\")\n",
    "        continue\n",
    "\n",
    "    if (answer.upper() == 'N'):\n",
    "        print('應用程式結束')\n",
    "        break\n",
    "    elif answer.upper()==\"Y\":    \n",
    "        continue\n",
    "    else:\n",
    "        print(\"輸入錯誤,應用程式結束\")\n",
    "        break\n"
   ]
  }
 ],
 "metadata": {
  "kernelspec": {
   "display_name": "Python 3",
   "language": "python",
   "name": "python3"
  },
  "language_info": {
   "codemirror_mode": {
    "name": "ipython",
    "version": 3
   },
   "file_extension": ".py",
   "mimetype": "text/x-python",
   "name": "python",
   "nbconvert_exporter": "python",
   "pygments_lexer": "ipython3",
   "version": "3.10.15"
  }
 },
 "nbformat": 4,
 "nbformat_minor": 2
}
