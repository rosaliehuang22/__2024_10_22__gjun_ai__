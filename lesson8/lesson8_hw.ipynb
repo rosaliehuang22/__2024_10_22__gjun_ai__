{
 "cells": [
  {
   "cell_type": "code",
   "execution_count": 1,
   "metadata": {},
   "outputs": [
    {
     "name": "stdout",
     "output_type": "stream",
     "text": [
      "name: 葉志峰\n",
      "height: 165\n",
      "weight: 70\n",
      "bmi: 25.7\n",
      "status: 過重\n",
      "===============\n",
      "name: 翁均安\n",
      "height: 182\n",
      "weight: 75\n",
      "bmi: 22.6\n",
      "status: 正常\n",
      "===============\n",
      "name: 陳冠霞\n",
      "height: 148\n",
      "weight: 83\n",
      "bmi: 37.9\n",
      "status: 重度肥胖\n",
      "===============\n"
     ]
    }
   ],
   "source": [
    "import random\n",
    "\n",
    "def get_names(nums):\n",
    "    with open('names.txt','r',encoding='utf-8') as file:\n",
    "        all_names = file.read().split()\n",
    "        chosen_names = random.sample(all_names,k=nums)\n",
    "        return chosen_names\n",
    "\n",
    "def generate_bmi(chosen_names):\n",
    "    bmi_records = []\n",
    "    for name in chosen_names:\n",
    "        height = random.randint(140,190)\n",
    "        weight = random.randint(50,110)\n",
    "        bmi = round((weight / (height/100)**2),1)\n",
    "        if bmi >= 35:\n",
    "            status = \"重度肥胖\"\n",
    "        elif bmi >= 30:\n",
    "            status =\"中度肥胖\"\n",
    "        elif bmi >= 27:\n",
    "            status =\"輕度肥胖\"\n",
    "        elif bmi >= 24:\n",
    "            status =\"過重\"\n",
    "        elif bmi >= 18.5:\n",
    "            status =\"正常\"\n",
    "        else:\n",
    "            status =\"體重過輕\"\n",
    "\n",
    "        student ={\n",
    "            'name': name,\n",
    "            'height': height,\n",
    "            'weight': weight,\n",
    "            'bmi': bmi,\n",
    "            'status': status\n",
    "        }\n",
    "\n",
    "        bmi_records.append(student)\n",
    "    \n",
    "    return bmi_records\n",
    "\n",
    "num_students = int(input(\"How many students do you want to add?\"))\n",
    "chosen_names = get_names(num_students)\n",
    "bmi_list = generate_bmi(chosen_names)\n",
    "for student in bmi_list:\n",
    "    for key, value in student.items():\n",
    "        print(f'{key}: {value}')\n",
    "    print(\"===============\")"
   ]
  }
 ],
 "metadata": {
  "kernelspec": {
   "display_name": "Python 3",
   "language": "python",
   "name": "python3"
  },
  "language_info": {
   "codemirror_mode": {
    "name": "ipython",
    "version": 3
   },
   "file_extension": ".py",
   "mimetype": "text/x-python",
   "name": "python",
   "nbconvert_exporter": "python",
   "pygments_lexer": "ipython3",
   "version": "3.10.15"
  }
 },
 "nbformat": 4,
 "nbformat_minor": 2
}
