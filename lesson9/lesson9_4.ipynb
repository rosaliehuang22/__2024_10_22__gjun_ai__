{
 "cells": [
  {
   "cell_type": "code",
   "execution_count": 1,
   "metadata": {},
   "outputs": [],
   "source": [
    "class BMI():\n",
    "    def __init__(self,name:str,height:int,weight:int):\n",
    "        self.name = name\n",
    "        self.height = height\n",
    "        self.weight = weight\n",
    "    \n",
    "    def get_bmi(self)->float:\n",
    "        return round(self.weight / (self.height/100) ** 2,ndigits=2)\n",
    "    \n",
    "    def get_status(self)->str:\n",
    "        bmi = self.get_bmi()\n",
    "        if bmi >=35:\n",
    "            status = \"您的體重:重度肥胖\"\n",
    "        elif bmi >= 30:\n",
    "            status = \"您的體重:中度肥胖\"\n",
    "        elif bmi >= 27:\n",
    "            status = \"您的體重:輕度肥胖\"\n",
    "        elif bmi >= 24:\n",
    "            status = \"您的體重:過重\"\n",
    "        elif bmi >= 18.5:\n",
    "            status = \"您的體重:正常範圍\"\n",
    "        else:\n",
    "            status = \"您的體重:體重過輕\"\n",
    "        \n",
    "        return status\n",
    "        "
   ]
  },
  {
   "cell_type": "code",
   "execution_count": 2,
   "metadata": {},
   "outputs": [
    {
     "data": {
      "text/plain": [
       "(25.25, '您的體重:過重')"
      ]
     },
     "execution_count": 2,
     "metadata": {},
     "output_type": "execute_result"
    }
   ],
   "source": [
    "p1 = BMI(name=\"徐國堂\",height=178,weight=80)\n",
    "p1.get_bmi(), p1.get_status()"
   ]
  },
  {
   "cell_type": "code",
   "execution_count": 3,
   "metadata": {},
   "outputs": [
    {
     "data": {
      "text/plain": [
       "(25.71, '您的體重:過重')"
      ]
     },
     "execution_count": 3,
     "metadata": {},
     "output_type": "execute_result"
    }
   ],
   "source": [
    "p2 = BMI(name=\"robert\",height=165,weight=70)\n",
    "p2.get_bmi(), p2.get_status()"
   ]
  }
 ],
 "metadata": {
  "kernelspec": {
   "display_name": "Python 3",
   "language": "python",
   "name": "python3"
  },
  "language_info": {
   "codemirror_mode": {
    "name": "ipython",
    "version": 3
   },
   "file_extension": ".py",
   "mimetype": "text/x-python",
   "name": "python",
   "nbconvert_exporter": "python",
   "pygments_lexer": "ipython3",
   "version": "3.10.15"
  }
 },
 "nbformat": 4,
 "nbformat_minor": 2
}
