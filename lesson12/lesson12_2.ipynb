{
 "cells": [
  {
   "cell_type": "code",
   "execution_count": null,
   "metadata": {},
   "outputs": [
    {
     "name": "stdout",
     "output_type": "stream",
     "text": [
      "請輸入手機號碼xxxx-xxx-xxx: 1111-111-111\n"
     ]
    }
   ],
   "source": [
    "#利用str的師徒方法, subscript\n",
    "\n",
    "def isPhoneNumber(text:str)->bool:\n",
    "    if len(text) != 12:\n",
    "        return False\n",
    "    elif not text[:4].isdecimal():\n",
    "        return False\n",
    "    elif text[4] != '-':\n",
    "        return False\n",
    "    elif not text[5:8].isdecimal():\n",
    "        return False\n",
    "    elif text[8] != '-':\n",
    "        return False\n",
    "    elif not text[9:].isdecimal():\n",
    "        return False\n",
    "    else:\n",
    "        return True\n",
    "\n",
    "phone = input('請輸入手機號碼xxxx-xxx-xxx:')\n",
    "if isPhoneNumber(phone):\n",
    "    print(f'您的手機號碼是：{phone}')\n",
    "else:\n",
    "    print('手機號碼格式錯誤!')"
   ]
  },
  {
   "cell_type": "code",
   "execution_count": 18,
   "metadata": {},
   "outputs": [
    {
     "name": "stdout",
     "output_type": "stream",
     "text": [
      "您的手機號碼是：8888-888-888\n"
     ]
    }
   ],
   "source": [
    "#利用正規則表達式\n",
    "\n",
    "import re\n",
    "from re import Pattern, Match\n",
    "def isPhoneNumber(text:str)->bool:\n",
    "    phoneNumRegex:Pattern = re.compile(r'\\d\\d\\d\\d-\\d\\d\\d-\\d\\d\\d')\n",
    "    result:Match = re.match(phoneNumRegex,text)\n",
    "    if result is None:\n",
    "        return False\n",
    "    else:\n",
    "        return True\n",
    "\n",
    "phone = input('請輸入手機號碼xxxx-xxx-xxx:')\n",
    "if isPhoneNumber(phone):\n",
    "    print(f'您的手機號碼是：{phone}')\n",
    "else:\n",
    "    print('手機號碼格式錯誤!')"
   ]
  },
  {
   "cell_type": "code",
   "execution_count": null,
   "metadata": {},
   "outputs": [],
   "source": [
    "#使用正規則表達式\n",
    "import re\n",
    "from re import Pattern,Match\n",
    "\n",
    "def isPhoneNumber(text:str) -> bool:\n",
    "    phoneNumRegex:Pattern = re.compile(r'\\d{4}-\\d{3}-\\d{3}')\n",
    "    result:Match = re.match(phoneNumRegex,text)\n",
    "    if result is None:\n",
    "        return False\n",
    "    else:\n",
    "        return True\n",
    "    \n",
    "\n",
    "phone_number = input(\"請輸入手機號碼xxxx-xxx-xxx:\")\n",
    "if isPhoneNumber(phone_number):\n",
    "    print(f\"您的手機號碼是:{phone_number}\")\n",
    "else:\n",
    "    print('手機號碼格式不正確!')"
   ]
  },
  {
   "cell_type": "code",
   "execution_count": null,
   "metadata": {},
   "outputs": [],
   "source": [
    "#使用正規則表達式\n",
    "import re\n",
    "from re import Pattern,Match\n",
    "\n",
    "def isPhoneNumber(text:str) -> bool:\n",
    "    phoneNumRegex:Pattern = re.compile(r'\\d{4}(-|_)\\d{3}(-|_)\\d{3}')\n",
    "    result:Match = re.match(phoneNumRegex,text)\n",
    "    if result is None:\n",
    "        return False\n",
    "    else:\n",
    "        return True\n",
    "    \n",
    "\n",
    "phone_number = input(\"請輸入手機號碼xxxx-xxx-xxx:\")\n",
    "if isPhoneNumber(phone_number):\n",
    "    print(f\"您的手機號碼是:{phone_number}\")\n",
    "else:\n",
    "    print('手機號碼格式不正確!')"
   ]
  },
  {
   "cell_type": "code",
   "execution_count": 23,
   "metadata": {},
   "outputs": [
    {
     "data": {
      "text/plain": [
       "['0181-171-271', '0372-847-111']"
      ]
     },
     "execution_count": 23,
     "metadata": {},
     "output_type": "execute_result"
    }
   ],
   "source": [
    "string = 'My phone number are 0181-171-271 and 0372-847-111'\n",
    "phoneNumRegex:Pattern = re.compile(r'\\d{4}-\\d{3}-\\d{3}')\n",
    "digits:list = re.findall(phoneNumRegex,string)\n",
    "digits"
   ]
  }
 ],
 "metadata": {
  "kernelspec": {
   "display_name": "Python 3",
   "language": "python",
   "name": "python3"
  },
  "language_info": {
   "codemirror_mode": {
    "name": "ipython",
    "version": 3
   },
   "file_extension": ".py",
   "mimetype": "text/x-python",
   "name": "python",
   "nbconvert_exporter": "python",
   "pygments_lexer": "ipython3",
   "version": "3.10.15"
  }
 },
 "nbformat": 4,
 "nbformat_minor": 2
}
