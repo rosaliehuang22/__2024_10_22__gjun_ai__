{
 "cells": [
  {
   "cell_type": "code",
   "execution_count": null,
   "metadata": {},
   "outputs": [
    {
     "name": "stdout",
     "output_type": "stream",
     "text": [
      "第1行程式\n",
      "第2行程式\n",
      "第3行程式\n",
      "第4行程式\n",
      "第5行程式\n",
      "第6行程式\n",
      "第7行程式\n",
      "第8行程式\n",
      "第9行程式\n",
      "第10行程式\n",
      "第11行程式\n",
      "第12行程式\n",
      "第13行程式\n",
      "第14行程式\n",
      "第15行程式\n",
      "第16行程式\n",
      "第17行程式\n",
      "第18行程式\n",
      "第19行程式\n",
      "第20行程式\n"
     ]
    }
   ],
   "source": [
    "#減少文件程式碼\n",
    "def func1()->None:\n",
    "    print(\"第5行程式\")\n",
    "    print(\"第6行程式\")\n",
    "    print(\"第7行程式\")\n",
    "    print(\"第8行程式\")\n",
    "    print(\"第9行程式\")\n",
    "    print(\"第10行程式\")\n",
    "\n",
    "def func2():\n",
    "    print(\"第15行程式\")\n",
    "    print(\"第16行程式\")\n",
    "    print(\"第17行程式\")\n",
    "    print(\"第18行程式\")\n",
    "    print(\"第19行程式\")\n",
    "\n",
    "print(\"第1行程式\")\n",
    "print(\"第2行程式\")\n",
    "print(\"第3行程式\")\n",
    "print(\"第4行程式\")\n",
    "#呼叫func1\n",
    "func1()\n",
    "print(\"第11行程式\")\n",
    "print(\"第12行程式\")\n",
    "print(\"第13行程式\")\n",
    "print(\"第14行程式\")\n",
    "#呼叫func2\n",
    "func2()\n",
    "print(\"第20行程式\")"
   ]
  },
  {
   "cell_type": "code",
   "execution_count": null,
   "metadata": {},
   "outputs": [
    {
     "name": "stdout",
     "output_type": "stream",
     "text": [
      "a=1256.63704\n"
     ]
    },
    {
     "ename": "NameError",
     "evalue": "name 'a1' is not defined",
     "output_type": "error",
     "traceback": [
      "\u001b[0;31m---------------------------------------------------------------------------\u001b[0m",
      "\u001b[0;31mNameError\u001b[0m                                 Traceback (most recent call last)",
      "Cell \u001b[0;32mIn[2], line 8\u001b[0m\n\u001b[1;32m      6\u001b[0m a \u001b[38;5;241m=\u001b[39m circle_area(r) \u001b[38;5;66;03m#引數值得呼叫\u001b[39;00m\n\u001b[1;32m      7\u001b[0m \u001b[38;5;28mprint\u001b[39m(\u001b[38;5;124mf\u001b[39m\u001b[38;5;124m\"\u001b[39m\u001b[38;5;124ma=\u001b[39m\u001b[38;5;132;01m{\u001b[39;00ma\u001b[38;5;132;01m}\u001b[39;00m\u001b[38;5;124m\"\u001b[39m)\n\u001b[0;32m----> 8\u001b[0m \u001b[38;5;28mprint\u001b[39m(\u001b[38;5;124mf\u001b[39m\u001b[38;5;124m\"\u001b[39m\u001b[38;5;124ma1=\u001b[39m\u001b[38;5;132;01m{\u001b[39;00m\u001b[43ma1\u001b[49m\u001b[38;5;132;01m}\u001b[39;00m\u001b[38;5;124m\"\u001b[39m)\n",
      "\u001b[0;31mNameError\u001b[0m: name 'a1' is not defined"
     ]
    }
   ],
   "source": [
    "def circle_area(radius:int)->float: #有參數，有傳出值的function\n",
    "    area = 3.1415926 * radius ** 2\n",
    "    return area\n",
    "\n",
    "r = int(input(\"請輸入半徑\"))\n",
    "a = circle_area(r) #引數值得呼叫\n",
    "a1 = circle_area(radius=r+10) #引數值得呼叫\n",
    "print(f\"a={a}\")\n",
    "print(f\"a1={a1}\")"
   ]
  }
 ],
 "metadata": {
  "kernelspec": {
   "display_name": "Python 3",
   "language": "python",
   "name": "python3"
  },
  "language_info": {
   "codemirror_mode": {
    "name": "ipython",
    "version": 3
   },
   "file_extension": ".py",
   "mimetype": "text/x-python",
   "name": "python",
   "nbconvert_exporter": "python",
   "pygments_lexer": "ipython3",
   "version": "3.10.15"
  }
 },
 "nbformat": 4,
 "nbformat_minor": 2
}
